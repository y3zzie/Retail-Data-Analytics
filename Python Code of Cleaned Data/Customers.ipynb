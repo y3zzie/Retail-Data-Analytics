{
 "cells": [
  {
   "cell_type": "code",
   "execution_count": 29,
   "id": "d30290fe",
   "metadata": {},
   "outputs": [],
   "source": [
    "import numpy as np\n",
    "import pandas as pd\n",
    "import seaborn as sns\n",
    "from sklearn.impute import KNNImputer"
   ]
  },
  {
   "cell_type": "code",
   "execution_count": 30,
   "id": "1fc4cd7d",
   "metadata": {},
   "outputs": [],
   "source": [
    "df = pd.read_csv(r\"C:\\Users\\yzdn\\Desktop\\Data Science\\Intern Projects\\Retail Analysic\\Raw Data\\customers.csv\")"
   ]
  },
  {
   "cell_type": "code",
   "execution_count": 31,
   "id": "b8ebae17",
   "metadata": {},
   "outputs": [
    {
     "data": {
      "text/html": [
       "<div>\n",
       "<style scoped>\n",
       "    .dataframe tbody tr th:only-of-type {\n",
       "        vertical-align: middle;\n",
       "    }\n",
       "\n",
       "    .dataframe tbody tr th {\n",
       "        vertical-align: top;\n",
       "    }\n",
       "\n",
       "    .dataframe thead th {\n",
       "        text-align: right;\n",
       "    }\n",
       "</style>\n",
       "<table border=\"1\" class=\"dataframe\">\n",
       "  <thead>\n",
       "    <tr style=\"text-align: right;\">\n",
       "      <th></th>\n",
       "      <th>customer_id</th>\n",
       "      <th>first_name</th>\n",
       "      <th>last_name</th>\n",
       "      <th>gender</th>\n",
       "      <th>age</th>\n",
       "      <th>signup_date</th>\n",
       "      <th>region</th>\n",
       "    </tr>\n",
       "  </thead>\n",
       "  <tbody>\n",
       "    <tr>\n",
       "      <th>0</th>\n",
       "      <td>C0000</td>\n",
       "      <td>Patrick</td>\n",
       "      <td>Morgan</td>\n",
       "      <td>Male</td>\n",
       "      <td>18.0</td>\n",
       "      <td>2024-07-11</td>\n",
       "      <td>South</td>\n",
       "    </tr>\n",
       "    <tr>\n",
       "      <th>1</th>\n",
       "      <td>C0001</td>\n",
       "      <td>Eric</td>\n",
       "      <td>Lee</td>\n",
       "      <td>Other</td>\n",
       "      <td>36.0</td>\n",
       "      <td>2020-09-20</td>\n",
       "      <td>East</td>\n",
       "    </tr>\n",
       "    <tr>\n",
       "      <th>2</th>\n",
       "      <td>C0002</td>\n",
       "      <td>Thomas</td>\n",
       "      <td>Pena</td>\n",
       "      <td>Female</td>\n",
       "      <td>NaN</td>\n",
       "      <td>2021-03-07</td>\n",
       "      <td>East</td>\n",
       "    </tr>\n",
       "    <tr>\n",
       "      <th>3</th>\n",
       "      <td>C0003</td>\n",
       "      <td>Dalton</td>\n",
       "      <td>Duran</td>\n",
       "      <td>Male</td>\n",
       "      <td>24.0</td>\n",
       "      <td>2021-08-29</td>\n",
       "      <td>South</td>\n",
       "    </tr>\n",
       "    <tr>\n",
       "      <th>4</th>\n",
       "      <td>C0004</td>\n",
       "      <td>Travis</td>\n",
       "      <td>Mcclain</td>\n",
       "      <td>Male</td>\n",
       "      <td>50.0</td>\n",
       "      <td>2023-03-29</td>\n",
       "      <td>South</td>\n",
       "    </tr>\n",
       "  </tbody>\n",
       "</table>\n",
       "</div>"
      ],
      "text/plain": [
       "  customer_id first_name last_name  gender   age signup_date region\n",
       "0       C0000    Patrick    Morgan    Male  18.0  2024-07-11  South\n",
       "1       C0001       Eric       Lee   Other  36.0  2020-09-20   East\n",
       "2       C0002     Thomas      Pena  Female   NaN  2021-03-07   East\n",
       "3       C0003     Dalton     Duran    Male  24.0  2021-08-29  South\n",
       "4       C0004     Travis   Mcclain    Male  50.0  2023-03-29  South"
      ]
     },
     "execution_count": 31,
     "metadata": {},
     "output_type": "execute_result"
    }
   ],
   "source": [
    "df.head()"
   ]
  },
  {
   "cell_type": "code",
   "execution_count": 32,
   "id": "a01fb897",
   "metadata": {},
   "outputs": [
    {
     "name": "stdout",
     "output_type": "stream",
     "text": [
      "<class 'pandas.core.frame.DataFrame'>\n",
      "RangeIndex: 816 entries, 0 to 815\n",
      "Data columns (total 7 columns):\n",
      " #   Column       Non-Null Count  Dtype  \n",
      "---  ------       --------------  -----  \n",
      " 0   customer_id  816 non-null    object \n",
      " 1   first_name   816 non-null    object \n",
      " 2   last_name    816 non-null    object \n",
      " 3   gender       816 non-null    object \n",
      " 4   age          776 non-null    float64\n",
      " 5   signup_date  816 non-null    object \n",
      " 6   region       816 non-null    object \n",
      "dtypes: float64(1), object(6)\n",
      "memory usage: 44.8+ KB\n"
     ]
    }
   ],
   "source": [
    "df.info()"
   ]
  },
  {
   "cell_type": "code",
   "execution_count": 33,
   "id": "458e7d26",
   "metadata": {},
   "outputs": [
    {
     "data": {
      "text/plain": [
       "customer_id     0\n",
       "first_name      0\n",
       "last_name       0\n",
       "gender          0\n",
       "age            40\n",
       "signup_date     0\n",
       "region          0\n",
       "dtype: int64"
      ]
     },
     "execution_count": 33,
     "metadata": {},
     "output_type": "execute_result"
    }
   ],
   "source": [
    "df.isnull().sum()"
   ]
  },
  {
   "cell_type": "code",
   "execution_count": 34,
   "id": "71e42229",
   "metadata": {},
   "outputs": [],
   "source": [
    "df[\"age\"] = df[\"age\"].fillna(\"0\")"
   ]
  },
  {
   "cell_type": "code",
   "execution_count": 35,
   "id": "d6c254ac",
   "metadata": {},
   "outputs": [],
   "source": [
    "df[\"age\"] = df[\"age\"].astype(int)"
   ]
  },
  {
   "cell_type": "code",
   "execution_count": 36,
   "id": "bce662c0",
   "metadata": {},
   "outputs": [],
   "source": [
    "str_cols = [\"customer_id\",\"first_name\",\"last_name\",\"gender\",\"region\"]\n",
    "for col in str_cols:\n",
    "    df[col] = df[col].astype(str).str.strip()"
   ]
  },
  {
   "cell_type": "code",
   "execution_count": 37,
   "id": "7d0e687e",
   "metadata": {},
   "outputs": [],
   "source": [
    "df[\"first_name\"] = df[\"first_name\"].str.strip().str.lower()\n",
    "df[\"last_name\"] = df[\"last_name\"].str.strip().str.lower()\n",
    "df[\"gender\"] = df[\"gender\"].str.strip().str.lower()\n",
    "df[\"region\"] = df[\"region\"].str.strip().str.lower()\n"
   ]
  },
  {
   "cell_type": "code",
   "execution_count": 38,
   "id": "32ab855a",
   "metadata": {},
   "outputs": [
    {
     "data": {
      "text/plain": [
       "np.int64(16)"
      ]
     },
     "execution_count": 38,
     "metadata": {},
     "output_type": "execute_result"
    }
   ],
   "source": [
    "df.duplicated().sum()"
   ]
  },
  {
   "cell_type": "code",
   "execution_count": 39,
   "id": "d535d066",
   "metadata": {},
   "outputs": [],
   "source": [
    "df = df.drop_duplicates()"
   ]
  },
  {
   "cell_type": "code",
   "execution_count": 40,
   "id": "a248c7f6",
   "metadata": {},
   "outputs": [
    {
     "name": "stderr",
     "output_type": "stream",
     "text": [
      "C:\\Users\\yzdn\\AppData\\Local\\Temp\\ipykernel_2448\\945736489.py:6: FutureWarning: errors='ignore' is deprecated and will raise in a future version. Use to_numeric without passing `errors` and catch exceptions explicitly instead\n",
      "  df[col] = pd.to_numeric(df[col], errors='ignore')\n",
      "C:\\Users\\yzdn\\AppData\\Local\\Temp\\ipykernel_2448\\945736489.py:6: FutureWarning: errors='ignore' is deprecated and will raise in a future version. Use to_numeric without passing `errors` and catch exceptions explicitly instead\n",
      "  df[col] = pd.to_numeric(df[col], errors='ignore')\n",
      "C:\\Users\\yzdn\\AppData\\Local\\Temp\\ipykernel_2448\\945736489.py:6: FutureWarning: errors='ignore' is deprecated and will raise in a future version. Use to_numeric without passing `errors` and catch exceptions explicitly instead\n",
      "  df[col] = pd.to_numeric(df[col], errors='ignore')\n",
      "C:\\Users\\yzdn\\AppData\\Local\\Temp\\ipykernel_2448\\945736489.py:6: FutureWarning: errors='ignore' is deprecated and will raise in a future version. Use to_numeric without passing `errors` and catch exceptions explicitly instead\n",
      "  df[col] = pd.to_numeric(df[col], errors='ignore')\n",
      "C:\\Users\\yzdn\\AppData\\Local\\Temp\\ipykernel_2448\\945736489.py:6: FutureWarning: errors='ignore' is deprecated and will raise in a future version. Use to_numeric without passing `errors` and catch exceptions explicitly instead\n",
      "  df[col] = pd.to_numeric(df[col], errors='ignore')\n",
      "C:\\Users\\yzdn\\AppData\\Local\\Temp\\ipykernel_2448\\945736489.py:6: FutureWarning: errors='ignore' is deprecated and will raise in a future version. Use to_numeric without passing `errors` and catch exceptions explicitly instead\n",
      "  df[col] = pd.to_numeric(df[col], errors='ignore')\n",
      "C:\\Users\\yzdn\\AppData\\Local\\Temp\\ipykernel_2448\\945736489.py:6: FutureWarning: errors='ignore' is deprecated and will raise in a future version. Use to_numeric without passing `errors` and catch exceptions explicitly instead\n",
      "  df[col] = pd.to_numeric(df[col], errors='ignore')\n"
     ]
    }
   ],
   "source": [
    "for col in df.columns:\n",
    "    df[col] = df[col].astype(str)\n",
    "\n",
    "    df[col] = df[col].str.strip().replace(r'\\s+', ' ', regex=True)\n",
    "\n",
    "    df[col] = pd.to_numeric(df[col], errors='ignore')"
   ]
  },
  {
   "cell_type": "code",
   "execution_count": 41,
   "id": "bc299f09",
   "metadata": {},
   "outputs": [],
   "source": [
    "df[\"signup_date\"] = pd.to_datetime(df[\"signup_date\"], errors=\"coerce\")\n",
    "df[\"signup_date\"] = df[\"signup_date\"].dt.normalize()"
   ]
  },
  {
   "cell_type": "code",
   "execution_count": 42,
   "id": "e58c1b94",
   "metadata": {},
   "outputs": [
    {
     "name": "stdout",
     "output_type": "stream",
     "text": [
      "<class 'pandas.core.frame.DataFrame'>\n",
      "Index: 800 entries, 0 to 799\n",
      "Data columns (total 7 columns):\n",
      " #   Column       Non-Null Count  Dtype         \n",
      "---  ------       --------------  -----         \n",
      " 0   customer_id  800 non-null    object        \n",
      " 1   first_name   800 non-null    object        \n",
      " 2   last_name    800 non-null    object        \n",
      " 3   gender       800 non-null    object        \n",
      " 4   age          800 non-null    int64         \n",
      " 5   signup_date  800 non-null    datetime64[ns]\n",
      " 6   region       800 non-null    object        \n",
      "dtypes: datetime64[ns](1), int64(1), object(5)\n",
      "memory usage: 50.0+ KB\n"
     ]
    }
   ],
   "source": [
    "df.info()"
   ]
  },
  {
   "cell_type": "code",
   "execution_count": 43,
   "id": "cebfad77",
   "metadata": {},
   "outputs": [
    {
     "data": {
      "text/plain": [
       "gender\n",
       "female    287\n",
       "male      275\n",
       "other     238\n",
       "Name: count, dtype: int64"
      ]
     },
     "execution_count": 43,
     "metadata": {},
     "output_type": "execute_result"
    }
   ],
   "source": [
    "df[\"gender\"].value_counts()"
   ]
  },
  {
   "cell_type": "code",
   "execution_count": 44,
   "id": "13fb7c58",
   "metadata": {},
   "outputs": [
    {
     "data": {
      "text/plain": [
       "array(['south', 'east', 'north', 'west'], dtype=object)"
      ]
     },
     "execution_count": 44,
     "metadata": {},
     "output_type": "execute_result"
    }
   ],
   "source": [
    "df[\"region\"].unique()"
   ]
  },
  {
   "cell_type": "code",
   "execution_count": 45,
   "id": "bf71a2b2",
   "metadata": {},
   "outputs": [
    {
     "data": {
      "text/html": [
       "<div>\n",
       "<style scoped>\n",
       "    .dataframe tbody tr th:only-of-type {\n",
       "        vertical-align: middle;\n",
       "    }\n",
       "\n",
       "    .dataframe tbody tr th {\n",
       "        vertical-align: top;\n",
       "    }\n",
       "\n",
       "    .dataframe thead th {\n",
       "        text-align: right;\n",
       "    }\n",
       "</style>\n",
       "<table border=\"1\" class=\"dataframe\">\n",
       "  <thead>\n",
       "    <tr style=\"text-align: right;\">\n",
       "      <th></th>\n",
       "      <th>age</th>\n",
       "      <th>signup_date</th>\n",
       "    </tr>\n",
       "  </thead>\n",
       "  <tbody>\n",
       "    <tr>\n",
       "      <th>count</th>\n",
       "      <td>800.000000</td>\n",
       "      <td>800</td>\n",
       "    </tr>\n",
       "    <tr>\n",
       "      <th>mean</th>\n",
       "      <td>41.947500</td>\n",
       "      <td>2022-10-23 04:04:48</td>\n",
       "    </tr>\n",
       "    <tr>\n",
       "      <th>min</th>\n",
       "      <td>0.000000</td>\n",
       "      <td>2020-04-11 00:00:00</td>\n",
       "    </tr>\n",
       "    <tr>\n",
       "      <th>25%</th>\n",
       "      <td>29.000000</td>\n",
       "      <td>2021-07-13 12:00:00</td>\n",
       "    </tr>\n",
       "    <tr>\n",
       "      <th>50%</th>\n",
       "      <td>43.000000</td>\n",
       "      <td>2022-11-22 12:00:00</td>\n",
       "    </tr>\n",
       "    <tr>\n",
       "      <th>75%</th>\n",
       "      <td>57.000000</td>\n",
       "      <td>2024-01-15 18:00:00</td>\n",
       "    </tr>\n",
       "    <tr>\n",
       "      <th>max</th>\n",
       "      <td>70.000000</td>\n",
       "      <td>2025-04-09 00:00:00</td>\n",
       "    </tr>\n",
       "    <tr>\n",
       "      <th>std</th>\n",
       "      <td>17.760674</td>\n",
       "      <td>NaN</td>\n",
       "    </tr>\n",
       "  </tbody>\n",
       "</table>\n",
       "</div>"
      ],
      "text/plain": [
       "              age          signup_date\n",
       "count  800.000000                  800\n",
       "mean    41.947500  2022-10-23 04:04:48\n",
       "min      0.000000  2020-04-11 00:00:00\n",
       "25%     29.000000  2021-07-13 12:00:00\n",
       "50%     43.000000  2022-11-22 12:00:00\n",
       "75%     57.000000  2024-01-15 18:00:00\n",
       "max     70.000000  2025-04-09 00:00:00\n",
       "std     17.760674                  NaN"
      ]
     },
     "execution_count": 45,
     "metadata": {},
     "output_type": "execute_result"
    }
   ],
   "source": [
    "df.describe()"
   ]
  },
  {
   "cell_type": "code",
   "execution_count": 46,
   "id": "6487c44c",
   "metadata": {},
   "outputs": [
    {
     "data": {
      "text/plain": [
       "<Axes: xlabel='age', ylabel='Count'>"
      ]
     },
     "execution_count": 46,
     "metadata": {},
     "output_type": "execute_result"
    },
    {
     "data": {
      "image/png": "[encoded data removed]",
      "text/plain": [
       "<Figure size 640x480 with 1 Axes>"
      ]
     },
     "metadata": {},
     "output_type": "display_data"
    }
   ],
   "source": [
    "sns.histplot(df[\"age\"])"
   ]
  },
  {
   "cell_type": "code",
   "execution_count": 47,
   "id": "aa0b4742",
   "metadata": {},
   "outputs": [],
   "source": [
    "df[\"age\"] = df[\"age\"].replace(0, np.nan)"
   ]
  },
  {
   "cell_type": "code",
   "execution_count": 48,
   "id": "47cac80e",
   "metadata": {},
   "outputs": [],
   "source": [
    "impute_cols = [\"age\"]\n",
    "imputer_data = df[impute_cols]"
   ]
  },
  {
   "cell_type": "code",
   "execution_count": 49,
   "id": "edf7c317",
   "metadata": {},
   "outputs": [],
   "source": [
    "imputer = KNNImputer(n_neighbors=5)\n",
    "imputed_array = imputer.fit_transform(imputer_data)"
   ]
  },
  {
   "cell_type": "code",
   "execution_count": 50,
   "id": "478091d5",
   "metadata": {},
   "outputs": [],
   "source": [
    "df[\"age\"] = imputed_array[:, 0]"
   ]
  },
  {
   "cell_type": "code",
   "execution_count": 51,
   "id": "6f5ece61",
   "metadata": {},
   "outputs": [],
   "source": [
    "df[\"age\"] = df[\"age\"].round().astype(int)"
   ]
  },
  {
   "cell_type": "code",
   "execution_count": 52,
   "id": "b6cac000",
   "metadata": {},
   "outputs": [
    {
     "data": {
      "text/plain": [
       "<seaborn.axisgrid.FacetGrid at 0x24a49193410>"
      ]
     },
     "execution_count": 52,
     "metadata": {},
     "output_type": "execute_result"
    },
    {
     "data": {
      "image/png": "[encoded data removed]",
      "text/plain": [
       "<Figure size 500x500 with 1 Axes>"
      ]
     },
     "metadata": {},
     "output_type": "display_data"
    }
   ],
   "source": [
    "sns.displot(df[\"age\"])"
   ]
  },
  {
   "cell_type": "code",
   "execution_count": 53,
   "id": "896285d5",
   "metadata": {},
   "outputs": [],
   "source": [
    "def assign_age_group(age):\n",
    "    if pd.isna(age):\n",
    "        return \"unknown\"\n",
    "    age = int(age) \n",
    "    if age <= 17:\n",
    "        return \"underage\"\n",
    "    elif 18 <= age <= 30:\n",
    "        return \"young adult\"\n",
    "    elif 31 <= age <= 45:\n",
    "        return \"adult\"\n",
    "    elif 46 <= age <= 60:\n",
    "        return \"mid adult\"\n",
    "    else:\n",
    "        return \"senior\""
   ]
  },
  {
   "cell_type": "code",
   "execution_count": 54,
   "id": "8cb46a8b",
   "metadata": {},
   "outputs": [],
   "source": [
    "df['age_group'] = df['age'].apply(assign_age_group)"
   ]
  },
  {
   "cell_type": "code",
   "execution_count": 55,
   "id": "c45c25d5",
   "metadata": {},
   "outputs": [
    {
     "data": {
      "text/html": [
       "<div>\n",
       "<style scoped>\n",
       "    .dataframe tbody tr th:only-of-type {\n",
       "        vertical-align: middle;\n",
       "    }\n",
       "\n",
       "    .dataframe tbody tr th {\n",
       "        vertical-align: top;\n",
       "    }\n",
       "\n",
       "    .dataframe thead th {\n",
       "        text-align: right;\n",
       "    }\n",
       "</style>\n",
       "<table border=\"1\" class=\"dataframe\">\n",
       "  <thead>\n",
       "    <tr style=\"text-align: right;\">\n",
       "      <th></th>\n",
       "      <th>customer_id</th>\n",
       "      <th>first_name</th>\n",
       "      <th>last_name</th>\n",
       "      <th>gender</th>\n",
       "      <th>age</th>\n",
       "      <th>signup_date</th>\n",
       "      <th>region</th>\n",
       "      <th>age_group</th>\n",
       "    </tr>\n",
       "  </thead>\n",
       "  <tbody>\n",
       "    <tr>\n",
       "      <th>0</th>\n",
       "      <td>C0000</td>\n",
       "      <td>patrick</td>\n",
       "      <td>morgan</td>\n",
       "      <td>male</td>\n",
       "      <td>18</td>\n",
       "      <td>2024-07-11</td>\n",
       "      <td>south</td>\n",
       "      <td>young adult</td>\n",
       "    </tr>\n",
       "    <tr>\n",
       "      <th>1</th>\n",
       "      <td>C0001</td>\n",
       "      <td>eric</td>\n",
       "      <td>lee</td>\n",
       "      <td>other</td>\n",
       "      <td>36</td>\n",
       "      <td>2020-09-20</td>\n",
       "      <td>east</td>\n",
       "      <td>adult</td>\n",
       "    </tr>\n",
       "    <tr>\n",
       "      <th>2</th>\n",
       "      <td>C0002</td>\n",
       "      <td>thomas</td>\n",
       "      <td>pena</td>\n",
       "      <td>female</td>\n",
       "      <td>44</td>\n",
       "      <td>2021-03-07</td>\n",
       "      <td>east</td>\n",
       "      <td>adult</td>\n",
       "    </tr>\n",
       "    <tr>\n",
       "      <th>3</th>\n",
       "      <td>C0003</td>\n",
       "      <td>dalton</td>\n",
       "      <td>duran</td>\n",
       "      <td>male</td>\n",
       "      <td>24</td>\n",
       "      <td>2021-08-29</td>\n",
       "      <td>south</td>\n",
       "      <td>young adult</td>\n",
       "    </tr>\n",
       "    <tr>\n",
       "      <th>4</th>\n",
       "      <td>C0004</td>\n",
       "      <td>travis</td>\n",
       "      <td>mcclain</td>\n",
       "      <td>male</td>\n",
       "      <td>50</td>\n",
       "      <td>2023-03-29</td>\n",
       "      <td>south</td>\n",
       "      <td>mid adult</td>\n",
       "    </tr>\n",
       "  </tbody>\n",
       "</table>\n",
       "</div>"
      ],
      "text/plain": [
       "  customer_id first_name last_name  gender  age signup_date region  \\\n",
       "0       C0000    patrick    morgan    male   18  2024-07-11  south   \n",
       "1       C0001       eric       lee   other   36  2020-09-20   east   \n",
       "2       C0002     thomas      pena  female   44  2021-03-07   east   \n",
       "3       C0003     dalton     duran    male   24  2021-08-29  south   \n",
       "4       C0004     travis   mcclain    male   50  2023-03-29  south   \n",
       "\n",
       "     age_group  \n",
       "0  young adult  \n",
       "1        adult  \n",
       "2        adult  \n",
       "3  young adult  \n",
       "4    mid adult  "
      ]
     },
     "execution_count": 55,
     "metadata": {},
     "output_type": "execute_result"
    }
   ],
   "source": [
    "df.head()"
   ]
  },
  {
   "cell_type": "code",
   "execution_count": 56,
   "id": "d5bc302a",
   "metadata": {},
   "outputs": [],
   "source": [
    "df.to_csv(r\"C:\\Users\\yzdn\\Desktop\\Data Science\\Intern Projects\\Retail Analysic\\Cleaned Data\\Cleaned Customer Data.csv\", index=False, encoding='utf-8')"
   ]
  }
 ],
 "metadata": {
  "kernelspec": {
   "display_name": "Python 3",
   "language": "python",
   "name": "python3"
  },
  "language_info": {
   "codemirror_mode": {
    "name": "ipython",
    "version": 3
   },
   "file_extension": ".py",
   "mimetype": "text/x-python",
   "name": "python",
   "nbconvert_exporter": "python",
   "pygments_lexer": "ipython3",
   "version": "3.12.4"
  }
 },
 "nbformat": 4,
 "nbformat_minor": 5
}
