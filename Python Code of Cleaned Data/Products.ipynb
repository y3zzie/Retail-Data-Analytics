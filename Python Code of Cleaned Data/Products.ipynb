{
 "cells": [
  {
   "cell_type": "code",
   "execution_count": 1,
   "id": "7798d0b2",
   "metadata": {},
   "outputs": [],
   "source": [
    "import numpy as np\n",
    "import pandas as pd\n",
    "import seaborn as sns\n",
    "import re"
   ]
  },
  {
   "cell_type": "code",
   "execution_count": 2,
   "id": "4cdd2802",
   "metadata": {},
   "outputs": [],
   "source": [
    "df = pd.read_csv(r\"C:\\Users\\yzdn\\Desktop\\Data Science\\Intern Projects\\Retail Analysic\\Raw Data\\products.csv\")"
   ]
  },
  {
   "cell_type": "code",
   "execution_count": 3,
   "id": "3c341228",
   "metadata": {},
   "outputs": [
    {
     "data": {
      "text/html": [
       "<div>\n",
       "<style scoped>\n",
       "    .dataframe tbody tr th:only-of-type {\n",
       "        vertical-align: middle;\n",
       "    }\n",
       "\n",
       "    .dataframe tbody tr th {\n",
       "        vertical-align: top;\n",
       "    }\n",
       "\n",
       "    .dataframe thead th {\n",
       "        text-align: right;\n",
       "    }\n",
       "</style>\n",
       "<table border=\"1\" class=\"dataframe\">\n",
       "  <thead>\n",
       "    <tr style=\"text-align: right;\">\n",
       "      <th></th>\n",
       "      <th>product_id</th>\n",
       "      <th>product_name</th>\n",
       "      <th>category</th>\n",
       "      <th>brand</th>\n",
       "      <th>cost_price</th>\n",
       "      <th>unit_price</th>\n",
       "      <th>margin_pct</th>\n",
       "    </tr>\n",
       "  </thead>\n",
       "  <tbody>\n",
       "    <tr>\n",
       "      <th>0</th>\n",
       "      <td>P0000</td>\n",
       "      <td>BrandA Shoulder</td>\n",
       "      <td>Electronics</td>\n",
       "      <td>BrandC</td>\n",
       "      <td>52.75</td>\n",
       "      <td>64.65</td>\n",
       "      <td>18.41</td>\n",
       "    </tr>\n",
       "    <tr>\n",
       "      <th>1</th>\n",
       "      <td>P0001</td>\n",
       "      <td>BrandA Responsibility</td>\n",
       "      <td>Electronics</td>\n",
       "      <td>BrandD</td>\n",
       "      <td>11.20</td>\n",
       "      <td>13.26</td>\n",
       "      <td>15.54</td>\n",
       "    </tr>\n",
       "    <tr>\n",
       "      <th>2</th>\n",
       "      <td>P0002</td>\n",
       "      <td>BrandB Small</td>\n",
       "      <td>Electronics</td>\n",
       "      <td>BrandB</td>\n",
       "      <td>144.62</td>\n",
       "      <td>250.37</td>\n",
       "      <td>42.24</td>\n",
       "    </tr>\n",
       "    <tr>\n",
       "      <th>3</th>\n",
       "      <td>P0003</td>\n",
       "      <td>BrandD Continue</td>\n",
       "      <td>Apparel</td>\n",
       "      <td>BrandD</td>\n",
       "      <td>119.91</td>\n",
       "      <td>219.25</td>\n",
       "      <td>45.31</td>\n",
       "    </tr>\n",
       "    <tr>\n",
       "      <th>4</th>\n",
       "      <td>P0004</td>\n",
       "      <td>BrandA Indeed</td>\n",
       "      <td>Apparel</td>\n",
       "      <td>BrandD</td>\n",
       "      <td>71.35</td>\n",
       "      <td>88.47</td>\n",
       "      <td>19.35</td>\n",
       "    </tr>\n",
       "  </tbody>\n",
       "</table>\n",
       "</div>"
      ],
      "text/plain": [
       "  product_id           product_name     category   brand  cost_price  \\\n",
       "0      P0000        BrandA Shoulder  Electronics  BrandC       52.75   \n",
       "1      P0001  BrandA Responsibility  Electronics  BrandD       11.20   \n",
       "2      P0002           BrandB Small  Electronics  BrandB      144.62   \n",
       "3      P0003        BrandD Continue      Apparel  BrandD      119.91   \n",
       "4      P0004          BrandA Indeed      Apparel  BrandD       71.35   \n",
       "\n",
       "   unit_price  margin_pct  \n",
       "0       64.65       18.41  \n",
       "1       13.26       15.54  \n",
       "2      250.37       42.24  \n",
       "3      219.25       45.31  \n",
       "4       88.47       19.35  "
      ]
     },
     "execution_count": 3,
     "metadata": {},
     "output_type": "execute_result"
    }
   ],
   "source": [
    "df.head()"
   ]
  },
  {
   "cell_type": "code",
   "execution_count": 4,
   "id": "5ce95883",
   "metadata": {},
   "outputs": [
    {
     "name": "stdout",
     "output_type": "stream",
     "text": [
      "<class 'pandas.core.frame.DataFrame'>\n",
      "RangeIndex: 1224 entries, 0 to 1223\n",
      "Data columns (total 7 columns):\n",
      " #   Column        Non-Null Count  Dtype  \n",
      "---  ------        --------------  -----  \n",
      " 0   product_id    1224 non-null   object \n",
      " 1   product_name  1224 non-null   object \n",
      " 2   category      1224 non-null   object \n",
      " 3   brand         1164 non-null   object \n",
      " 4   cost_price    1224 non-null   float64\n",
      " 5   unit_price    1224 non-null   float64\n",
      " 6   margin_pct    1224 non-null   float64\n",
      "dtypes: float64(3), object(4)\n",
      "memory usage: 67.1+ KB\n"
     ]
    }
   ],
   "source": [
    "df.info()"
   ]
  },
  {
   "cell_type": "code",
   "execution_count": 5,
   "id": "a3f3331f",
   "metadata": {},
   "outputs": [
    {
     "data": {
      "text/plain": [
       "product_id       0\n",
       "product_name     0\n",
       "category         0\n",
       "brand           60\n",
       "cost_price       0\n",
       "unit_price       0\n",
       "margin_pct       0\n",
       "dtype: int64"
      ]
     },
     "execution_count": 5,
     "metadata": {},
     "output_type": "execute_result"
    }
   ],
   "source": [
    "df.isnull().sum()"
   ]
  },
  {
   "cell_type": "code",
   "execution_count": 6,
   "id": "71f1d990",
   "metadata": {},
   "outputs": [],
   "source": [
    "str_cols = [\"product_id\",\"product_name\",\"category\",\"brand\"]\n",
    "for col in str_cols:\n",
    "    df[col] = df[col].astype(str).str.strip()"
   ]
  },
  {
   "cell_type": "code",
   "execution_count": 7,
   "id": "885df28e",
   "metadata": {},
   "outputs": [
    {
     "data": {
      "text/plain": [
       "np.int64(24)"
      ]
     },
     "execution_count": 7,
     "metadata": {},
     "output_type": "execute_result"
    }
   ],
   "source": [
    "df.duplicated().sum()"
   ]
  },
  {
   "cell_type": "code",
   "execution_count": 8,
   "id": "8e1d35a7",
   "metadata": {},
   "outputs": [],
   "source": [
    "df = df.drop_duplicates()"
   ]
  },
  {
   "cell_type": "code",
   "execution_count": 9,
   "id": "0afc3d09",
   "metadata": {},
   "outputs": [],
   "source": [
    "df[\"brand\"] = df[\"brand\"].fillna(\"unknown\")"
   ]
  },
  {
   "cell_type": "code",
   "execution_count": 10,
   "id": "d835ee31",
   "metadata": {},
   "outputs": [],
   "source": [
    "def clean_brand(brand):\n",
    "    if not isinstance(brand, str):\n",
    "        return brand\n",
    "\n",
    "    brand = brand.strip().lower()\n",
    "    \n",
    "    # ✅ Keep \"unknown\" as is\n",
    "    if brand == \"nan\":\n",
    "        return \"unknown\"\n",
    "\n",
    "    # 🛠️ Fix compressed brand like \"brandc\" → \"Brand C\"\n",
    "    match = re.match(r'^(brand)([a-z])$', brand)\n",
    "    if match:\n",
    "        return f\"{match.group(1).title()} {match.group(2).upper()}\"\n",
    "\n",
    "    # 🔡 Otherwise, just title-case it\n",
    "    return brand.title()\n",
    "\n",
    "# Apply to brand column\n",
    "df[\"brand\"] = df[\"brand\"].apply(clean_brand)"
   ]
  },
  {
   "cell_type": "code",
   "execution_count": 11,
   "id": "1fa8f104",
   "metadata": {},
   "outputs": [],
   "source": [
    "def fix_product_name(text):\n",
    "    if isinstance(text, str):\n",
    "        text = text.strip().lower()\n",
    "        match = re.match(r'^(brand)([a-z])\\b(.*)', text)\n",
    "        if match:\n",
    "            brand = f\"{match.group(1)} {match.group(2)}\"\n",
    "            rest = match.group(3).strip()\n",
    "            full_name = f\"{brand} {rest}\".strip()\n",
    "            return full_name.title()\n",
    "        else:\n",
    "            return text.title()\n",
    "    return text\n",
    "\n",
    "df[\"product_name\"] = df[\"product_name\"].apply(fix_product_name)"
   ]
  },
  {
   "cell_type": "code",
   "execution_count": 12,
   "id": "a7c0a060",
   "metadata": {},
   "outputs": [],
   "source": [
    "df[\"product_name\"] = df[\"product_name\"].str.strip().str.lower()\n",
    "df[\"category\"] = df[\"category\"].str.strip().str.lower()\n",
    "df[\"brand\"] = df[\"brand\"].str.strip().str.lower()"
   ]
  },
  {
   "cell_type": "code",
   "execution_count": 13,
   "id": "995ceae7",
   "metadata": {},
   "outputs": [
    {
     "name": "stderr",
     "output_type": "stream",
     "text": [
      "C:\\Users\\yzdn\\AppData\\Local\\Temp\\ipykernel_2032\\945736489.py:6: FutureWarning: errors='ignore' is deprecated and will raise in a future version. Use to_numeric without passing `errors` and catch exceptions explicitly instead\n",
      "  df[col] = pd.to_numeric(df[col], errors='ignore')\n",
      "C:\\Users\\yzdn\\AppData\\Local\\Temp\\ipykernel_2032\\945736489.py:6: FutureWarning: errors='ignore' is deprecated and will raise in a future version. Use to_numeric without passing `errors` and catch exceptions explicitly instead\n",
      "  df[col] = pd.to_numeric(df[col], errors='ignore')\n",
      "C:\\Users\\yzdn\\AppData\\Local\\Temp\\ipykernel_2032\\945736489.py:6: FutureWarning: errors='ignore' is deprecated and will raise in a future version. Use to_numeric without passing `errors` and catch exceptions explicitly instead\n",
      "  df[col] = pd.to_numeric(df[col], errors='ignore')\n",
      "C:\\Users\\yzdn\\AppData\\Local\\Temp\\ipykernel_2032\\945736489.py:6: FutureWarning: errors='ignore' is deprecated and will raise in a future version. Use to_numeric without passing `errors` and catch exceptions explicitly instead\n",
      "  df[col] = pd.to_numeric(df[col], errors='ignore')\n",
      "C:\\Users\\yzdn\\AppData\\Local\\Temp\\ipykernel_2032\\945736489.py:6: FutureWarning: errors='ignore' is deprecated and will raise in a future version. Use to_numeric without passing `errors` and catch exceptions explicitly instead\n",
      "  df[col] = pd.to_numeric(df[col], errors='ignore')\n",
      "C:\\Users\\yzdn\\AppData\\Local\\Temp\\ipykernel_2032\\945736489.py:6: FutureWarning: errors='ignore' is deprecated and will raise in a future version. Use to_numeric without passing `errors` and catch exceptions explicitly instead\n",
      "  df[col] = pd.to_numeric(df[col], errors='ignore')\n",
      "C:\\Users\\yzdn\\AppData\\Local\\Temp\\ipykernel_2032\\945736489.py:6: FutureWarning: errors='ignore' is deprecated and will raise in a future version. Use to_numeric without passing `errors` and catch exceptions explicitly instead\n",
      "  df[col] = pd.to_numeric(df[col], errors='ignore')\n"
     ]
    }
   ],
   "source": [
    "for col in df.columns:\n",
    "    df[col] = df[col].astype(str)\n",
    "\n",
    "    df[col] = df[col].str.strip().replace(r'\\s+', ' ', regex=True)\n",
    "\n",
    "    df[col] = pd.to_numeric(df[col], errors='ignore')"
   ]
  },
  {
   "cell_type": "code",
   "execution_count": 14,
   "id": "2f53d8e1",
   "metadata": {},
   "outputs": [
    {
     "name": "stdout",
     "output_type": "stream",
     "text": [
      "<class 'pandas.core.frame.DataFrame'>\n",
      "Index: 1200 entries, 0 to 1199\n",
      "Data columns (total 7 columns):\n",
      " #   Column        Non-Null Count  Dtype  \n",
      "---  ------        --------------  -----  \n",
      " 0   product_id    1200 non-null   object \n",
      " 1   product_name  1200 non-null   object \n",
      " 2   category      1200 non-null   object \n",
      " 3   brand         1200 non-null   object \n",
      " 4   cost_price    1200 non-null   float64\n",
      " 5   unit_price    1200 non-null   float64\n",
      " 6   margin_pct    1200 non-null   float64\n",
      "dtypes: float64(3), object(4)\n",
      "memory usage: 75.0+ KB\n"
     ]
    }
   ],
   "source": [
    "df.info()"
   ]
  },
  {
   "cell_type": "code",
   "execution_count": 15,
   "id": "972560a8",
   "metadata": {},
   "outputs": [
    {
     "data": {
      "text/plain": [
       "brand\n",
       "brand d    306\n",
       "brand c    293\n",
       "brand b    278\n",
       "brand a    263\n",
       "unknown     60\n",
       "Name: count, dtype: int64"
      ]
     },
     "execution_count": 15,
     "metadata": {},
     "output_type": "execute_result"
    }
   ],
   "source": [
    "df[\"brand\"].value_counts()"
   ]
  },
  {
   "cell_type": "code",
   "execution_count": 16,
   "id": "e7e30ee2",
   "metadata": {},
   "outputs": [
    {
     "data": {
      "text/plain": [
       "array(['electronics', 'apparel', 'home & kitchen', 'personal care'],\n",
       "      dtype=object)"
      ]
     },
     "execution_count": 16,
     "metadata": {},
     "output_type": "execute_result"
    }
   ],
   "source": [
    "df[\"category\"].unique()"
   ]
  },
  {
   "cell_type": "code",
   "execution_count": 17,
   "id": "901a698b",
   "metadata": {},
   "outputs": [
    {
     "data": {
      "text/plain": [
       "category\n",
       "personal care     312\n",
       "electronics       301\n",
       "apparel           297\n",
       "home & kitchen    290\n",
       "Name: count, dtype: int64"
      ]
     },
     "execution_count": 17,
     "metadata": {},
     "output_type": "execute_result"
    }
   ],
   "source": [
    "df[\"category\"].value_counts()"
   ]
  },
  {
   "cell_type": "code",
   "execution_count": 18,
   "id": "605a8091",
   "metadata": {},
   "outputs": [
    {
     "data": {
      "text/html": [
       "<div>\n",
       "<style scoped>\n",
       "    .dataframe tbody tr th:only-of-type {\n",
       "        vertical-align: middle;\n",
       "    }\n",
       "\n",
       "    .dataframe tbody tr th {\n",
       "        vertical-align: top;\n",
       "    }\n",
       "\n",
       "    .dataframe thead th {\n",
       "        text-align: right;\n",
       "    }\n",
       "</style>\n",
       "<table border=\"1\" class=\"dataframe\">\n",
       "  <thead>\n",
       "    <tr style=\"text-align: right;\">\n",
       "      <th></th>\n",
       "      <th>cost_price</th>\n",
       "      <th>unit_price</th>\n",
       "      <th>margin_pct</th>\n",
       "    </tr>\n",
       "  </thead>\n",
       "  <tbody>\n",
       "    <tr>\n",
       "      <th>count</th>\n",
       "      <td>1200.000000</td>\n",
       "      <td>1200.000000</td>\n",
       "      <td>1200.000000</td>\n",
       "    </tr>\n",
       "    <tr>\n",
       "      <th>mean</th>\n",
       "      <td>103.068000</td>\n",
       "      <td>159.561975</td>\n",
       "      <td>33.826383</td>\n",
       "    </tr>\n",
       "    <tr>\n",
       "      <th>std</th>\n",
       "      <td>55.964199</td>\n",
       "      <td>90.698730</td>\n",
       "      <td>11.282351</td>\n",
       "    </tr>\n",
       "    <tr>\n",
       "      <th>min</th>\n",
       "      <td>5.290000</td>\n",
       "      <td>6.770000</td>\n",
       "      <td>9.120000</td>\n",
       "    </tr>\n",
       "    <tr>\n",
       "      <th>25%</th>\n",
       "      <td>54.697500</td>\n",
       "      <td>83.887500</td>\n",
       "      <td>25.282500</td>\n",
       "    </tr>\n",
       "    <tr>\n",
       "      <th>50%</th>\n",
       "      <td>104.165000</td>\n",
       "      <td>157.590000</td>\n",
       "      <td>36.225000</td>\n",
       "    </tr>\n",
       "    <tr>\n",
       "      <th>75%</th>\n",
       "      <td>151.342500</td>\n",
       "      <td>226.220000</td>\n",
       "      <td>43.152500</td>\n",
       "    </tr>\n",
       "    <tr>\n",
       "      <th>max</th>\n",
       "      <td>199.470000</td>\n",
       "      <td>382.320000</td>\n",
       "      <td>49.990000</td>\n",
       "    </tr>\n",
       "  </tbody>\n",
       "</table>\n",
       "</div>"
      ],
      "text/plain": [
       "        cost_price   unit_price   margin_pct\n",
       "count  1200.000000  1200.000000  1200.000000\n",
       "mean    103.068000   159.561975    33.826383\n",
       "std      55.964199    90.698730    11.282351\n",
       "min       5.290000     6.770000     9.120000\n",
       "25%      54.697500    83.887500    25.282500\n",
       "50%     104.165000   157.590000    36.225000\n",
       "75%     151.342500   226.220000    43.152500\n",
       "max     199.470000   382.320000    49.990000"
      ]
     },
     "execution_count": 18,
     "metadata": {},
     "output_type": "execute_result"
    }
   ],
   "source": [
    "df.describe()"
   ]
  },
  {
   "cell_type": "code",
   "execution_count": 19,
   "id": "01eb258a",
   "metadata": {},
   "outputs": [],
   "source": [
    "#Z-score\n",
    "outliers=[]\n",
    "def detect_outliers(data):\n",
    "    threshold=3\n",
    "    mean=np.mean(data)\n",
    "    std=np.std(data)\n",
    "    \n",
    "    for i in data:\n",
    "        z_score=(i-mean)/std\n",
    "        if np.abs(z_score)>threshold:\n",
    "            outliers.append(i)\n",
    "    return outliers"
   ]
  },
  {
   "cell_type": "code",
   "execution_count": 20,
   "id": "96921a43",
   "metadata": {},
   "outputs": [
    {
     "data": {
      "text/plain": [
       "[]"
      ]
     },
     "execution_count": 20,
     "metadata": {},
     "output_type": "execute_result"
    }
   ],
   "source": [
    "detect_outliers(df[\"cost_price\"])"
   ]
  },
  {
   "cell_type": "code",
   "execution_count": 21,
   "id": "f3850589",
   "metadata": {},
   "outputs": [
    {
     "data": {
      "text/plain": [
       "<Axes: xlabel='cost_price', ylabel='Count'>"
      ]
     },
     "execution_count": 21,
     "metadata": {},
     "output_type": "execute_result"
    },
    {
     "data": {
      "image/png": "[encoded data removed]",
      "text/plain": [
       "<Figure size 640x480 with 1 Axes>"
      ]
     },
     "metadata": {},
     "output_type": "display_data"
    }
   ],
   "source": [
    "sns.histplot(df[\"cost_price\"])"
   ]
  },
  {
   "cell_type": "code",
   "execution_count": 22,
   "id": "2594547c",
   "metadata": {},
   "outputs": [],
   "source": [
    "#profit per unit\n",
    "df[\"profit_per_unit\"] = df[\"unit_price\"] - df[\"cost_price\"]"
   ]
  },
  {
   "cell_type": "code",
   "execution_count": 23,
   "id": "4f9f61fe",
   "metadata": {},
   "outputs": [],
   "source": [
    "def classify_price_range(price):\n",
    "    if pd.isna(price):\n",
    "        return \"unknown\"\n",
    "    elif price <= 100:\n",
    "        return \"budget\"\n",
    "    elif 101 <= price <= 500:\n",
    "        return \"mid Range\"\n",
    "    else:\n",
    "        return \"premium\"\n",
    "\n",
    "df[\"price_range\"] = df[\"unit_price\"].apply(classify_price_range)"
   ]
  },
  {
   "cell_type": "code",
   "execution_count": 24,
   "id": "3a8fb1de",
   "metadata": {},
   "outputs": [],
   "source": [
    "def margin_category(margin):\n",
    "    if pd.isna(margin):\n",
    "        return \"unknown\"\n",
    "    elif margin <= 10:\n",
    "        return \"low margin\"\n",
    "    elif margin <= 25:\n",
    "        return \"medium margin\"\n",
    "    else:\n",
    "        return \"high margin\"\n",
    "\n",
    "df[\"margin_category\"] = df[\"margin_pct\"].apply(margin_category)\n"
   ]
  },
  {
   "cell_type": "code",
   "execution_count": 25,
   "id": "9b4ac87c",
   "metadata": {},
   "outputs": [
    {
     "data": {
      "text/html": [
       "<div>\n",
       "<style scoped>\n",
       "    .dataframe tbody tr th:only-of-type {\n",
       "        vertical-align: middle;\n",
       "    }\n",
       "\n",
       "    .dataframe tbody tr th {\n",
       "        vertical-align: top;\n",
       "    }\n",
       "\n",
       "    .dataframe thead th {\n",
       "        text-align: right;\n",
       "    }\n",
       "</style>\n",
       "<table border=\"1\" class=\"dataframe\">\n",
       "  <thead>\n",
       "    <tr style=\"text-align: right;\">\n",
       "      <th></th>\n",
       "      <th>product_id</th>\n",
       "      <th>product_name</th>\n",
       "      <th>category</th>\n",
       "      <th>brand</th>\n",
       "      <th>cost_price</th>\n",
       "      <th>unit_price</th>\n",
       "      <th>margin_pct</th>\n",
       "      <th>profit_per_unit</th>\n",
       "      <th>price_range</th>\n",
       "      <th>margin_category</th>\n",
       "    </tr>\n",
       "  </thead>\n",
       "  <tbody>\n",
       "    <tr>\n",
       "      <th>0</th>\n",
       "      <td>P0000</td>\n",
       "      <td>brand a shoulder</td>\n",
       "      <td>electronics</td>\n",
       "      <td>brand c</td>\n",
       "      <td>52.75</td>\n",
       "      <td>64.65</td>\n",
       "      <td>18.41</td>\n",
       "      <td>11.90</td>\n",
       "      <td>budget</td>\n",
       "      <td>medium margin</td>\n",
       "    </tr>\n",
       "    <tr>\n",
       "      <th>1</th>\n",
       "      <td>P0001</td>\n",
       "      <td>brand a responsibility</td>\n",
       "      <td>electronics</td>\n",
       "      <td>brand d</td>\n",
       "      <td>11.20</td>\n",
       "      <td>13.26</td>\n",
       "      <td>15.54</td>\n",
       "      <td>2.06</td>\n",
       "      <td>budget</td>\n",
       "      <td>medium margin</td>\n",
       "    </tr>\n",
       "    <tr>\n",
       "      <th>2</th>\n",
       "      <td>P0002</td>\n",
       "      <td>brand b small</td>\n",
       "      <td>electronics</td>\n",
       "      <td>brand b</td>\n",
       "      <td>144.62</td>\n",
       "      <td>250.37</td>\n",
       "      <td>42.24</td>\n",
       "      <td>105.75</td>\n",
       "      <td>mid Range</td>\n",
       "      <td>high margin</td>\n",
       "    </tr>\n",
       "    <tr>\n",
       "      <th>3</th>\n",
       "      <td>P0003</td>\n",
       "      <td>brand d continue</td>\n",
       "      <td>apparel</td>\n",
       "      <td>brand d</td>\n",
       "      <td>119.91</td>\n",
       "      <td>219.25</td>\n",
       "      <td>45.31</td>\n",
       "      <td>99.34</td>\n",
       "      <td>mid Range</td>\n",
       "      <td>high margin</td>\n",
       "    </tr>\n",
       "    <tr>\n",
       "      <th>4</th>\n",
       "      <td>P0004</td>\n",
       "      <td>brand a indeed</td>\n",
       "      <td>apparel</td>\n",
       "      <td>brand d</td>\n",
       "      <td>71.35</td>\n",
       "      <td>88.47</td>\n",
       "      <td>19.35</td>\n",
       "      <td>17.12</td>\n",
       "      <td>budget</td>\n",
       "      <td>medium margin</td>\n",
       "    </tr>\n",
       "  </tbody>\n",
       "</table>\n",
       "</div>"
      ],
      "text/plain": [
       "  product_id            product_name     category    brand  cost_price  \\\n",
       "0      P0000        brand a shoulder  electronics  brand c       52.75   \n",
       "1      P0001  brand a responsibility  electronics  brand d       11.20   \n",
       "2      P0002           brand b small  electronics  brand b      144.62   \n",
       "3      P0003        brand d continue      apparel  brand d      119.91   \n",
       "4      P0004          brand a indeed      apparel  brand d       71.35   \n",
       "\n",
       "   unit_price  margin_pct  profit_per_unit price_range margin_category  \n",
       "0       64.65       18.41            11.90      budget   medium margin  \n",
       "1       13.26       15.54             2.06      budget   medium margin  \n",
       "2      250.37       42.24           105.75   mid Range     high margin  \n",
       "3      219.25       45.31            99.34   mid Range     high margin  \n",
       "4       88.47       19.35            17.12      budget   medium margin  "
      ]
     },
     "execution_count": 25,
     "metadata": {},
     "output_type": "execute_result"
    }
   ],
   "source": [
    "df.head()"
   ]
  },
  {
   "cell_type": "code",
   "execution_count": 26,
   "id": "37e644ba",
   "metadata": {},
   "outputs": [],
   "source": [
    "df.to_csv(r\"C:\\Users\\yzdn\\Desktop\\Data Science\\Intern Projects\\Retail Analysic\\Cleaned Data\\Cleaned Products Data.csv\", index=False, encoding='utf-8')"
   ]
  }
 ],
 "metadata": {
  "kernelspec": {
   "display_name": "Python 3",
   "language": "python",
   "name": "python3"
  },
  "language_info": {
   "codemirror_mode": {
    "name": "ipython",
    "version": 3
   },
   "file_extension": ".py",
   "mimetype": "text/x-python",
   "name": "python",
   "nbconvert_exporter": "python",
   "pygments_lexer": "ipython3",
   "version": "3.12.4"
  }
 },
 "nbformat": 4,
 "nbformat_minor": 5
}
