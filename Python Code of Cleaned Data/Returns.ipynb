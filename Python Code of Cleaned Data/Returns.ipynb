{
 "cells": [
  {
   "cell_type": "code",
   "execution_count": 1,
   "id": "343b249a",
   "metadata": {},
   "outputs": [],
   "source": [
    "import numpy as np\n",
    "import pandas as pd"
   ]
  },
  {
   "cell_type": "code",
   "execution_count": 2,
   "id": "83a432b2",
   "metadata": {},
   "outputs": [],
   "source": [
    "df = pd.read_csv(r\"C:\\Users\\yzdn\\Desktop\\Data Science\\Intern Projects\\Retail Analysic\\Raw Data\\returns.csv\")"
   ]
  },
  {
   "cell_type": "code",
   "execution_count": 3,
   "id": "69d28dd0",
   "metadata": {},
   "outputs": [
    {
     "data": {
      "text/html": [
       "<div>\n",
       "<style scoped>\n",
       "    .dataframe tbody tr th:only-of-type {\n",
       "        vertical-align: middle;\n",
       "    }\n",
       "\n",
       "    .dataframe tbody tr th {\n",
       "        vertical-align: top;\n",
       "    }\n",
       "\n",
       "    .dataframe thead th {\n",
       "        text-align: right;\n",
       "    }\n",
       "</style>\n",
       "<table border=\"1\" class=\"dataframe\">\n",
       "  <thead>\n",
       "    <tr style=\"text-align: right;\">\n",
       "      <th></th>\n",
       "      <th>return_id</th>\n",
       "      <th>order_id</th>\n",
       "      <th>return_date</th>\n",
       "      <th>return_reason</th>\n",
       "    </tr>\n",
       "  </thead>\n",
       "  <tbody>\n",
       "    <tr>\n",
       "      <th>0</th>\n",
       "      <td>R0000</td>\n",
       "      <td>O02237</td>\n",
       "      <td>2024-03-05</td>\n",
       "      <td>Defective</td>\n",
       "    </tr>\n",
       "    <tr>\n",
       "      <th>1</th>\n",
       "      <td>R0001</td>\n",
       "      <td>O01700</td>\n",
       "      <td>2025-03-18</td>\n",
       "      <td>Defective</td>\n",
       "    </tr>\n",
       "    <tr>\n",
       "      <th>2</th>\n",
       "      <td>R0002</td>\n",
       "      <td>O01451</td>\n",
       "      <td>2025-02-18</td>\n",
       "      <td>Late Delivery</td>\n",
       "    </tr>\n",
       "    <tr>\n",
       "      <th>3</th>\n",
       "      <td>R0003</td>\n",
       "      <td>O02759</td>\n",
       "      <td>2023-10-26</td>\n",
       "      <td>Defective</td>\n",
       "    </tr>\n",
       "    <tr>\n",
       "      <th>4</th>\n",
       "      <td>R0004</td>\n",
       "      <td>O00415</td>\n",
       "      <td>2024-08-06</td>\n",
       "      <td>No Longer Needed</td>\n",
       "    </tr>\n",
       "  </tbody>\n",
       "</table>\n",
       "</div>"
      ],
      "text/plain": [
       "  return_id order_id return_date     return_reason\n",
       "0     R0000   O02237  2024-03-05         Defective\n",
       "1     R0001   O01700  2025-03-18         Defective\n",
       "2     R0002   O01451  2025-02-18     Late Delivery\n",
       "3     R0003   O02759  2023-10-26         Defective\n",
       "4     R0004   O00415  2024-08-06  No Longer Needed"
      ]
     },
     "execution_count": 3,
     "metadata": {},
     "output_type": "execute_result"
    }
   ],
   "source": [
    "df.head()"
   ]
  },
  {
   "cell_type": "code",
   "execution_count": 4,
   "id": "4407a3ac",
   "metadata": {},
   "outputs": [
    {
     "name": "stdout",
     "output_type": "stream",
     "text": [
      "<class 'pandas.core.frame.DataFrame'>\n",
      "RangeIndex: 204 entries, 0 to 203\n",
      "Data columns (total 4 columns):\n",
      " #   Column         Non-Null Count  Dtype \n",
      "---  ------         --------------  ----- \n",
      " 0   return_id      204 non-null    object\n",
      " 1   order_id       204 non-null    object\n",
      " 2   return_date    204 non-null    object\n",
      " 3   return_reason  204 non-null    object\n",
      "dtypes: object(4)\n",
      "memory usage: 6.5+ KB\n"
     ]
    }
   ],
   "source": [
    "df.info()"
   ]
  },
  {
   "cell_type": "code",
   "execution_count": 5,
   "id": "002af73c",
   "metadata": {},
   "outputs": [],
   "source": [
    "str_cols = [\"return_id\",\"order_id\",\"return_reason\"]\n",
    "for col in str_cols:\n",
    "    df[col] = df[col].astype(str).str.strip()"
   ]
  },
  {
   "cell_type": "code",
   "execution_count": 6,
   "id": "6618f308",
   "metadata": {},
   "outputs": [
    {
     "data": {
      "text/plain": [
       "np.int64(4)"
      ]
     },
     "execution_count": 6,
     "metadata": {},
     "output_type": "execute_result"
    }
   ],
   "source": [
    "df.duplicated().sum()"
   ]
  },
  {
   "cell_type": "code",
   "execution_count": 7,
   "id": "4b6a19f0",
   "metadata": {},
   "outputs": [],
   "source": [
    "df = df.drop_duplicates()"
   ]
  },
  {
   "cell_type": "code",
   "execution_count": 8,
   "id": "720a1101",
   "metadata": {},
   "outputs": [],
   "source": [
    "df[\"return_reason\"] = df[\"return_reason\"].str.strip().str.lower()"
   ]
  },
  {
   "cell_type": "code",
   "execution_count": 9,
   "id": "3d4bcd41",
   "metadata": {},
   "outputs": [
    {
     "name": "stderr",
     "output_type": "stream",
     "text": [
      "C:\\Users\\yzdn\\AppData\\Local\\Temp\\ipykernel_7972\\945736489.py:6: FutureWarning: errors='ignore' is deprecated and will raise in a future version. Use to_numeric without passing `errors` and catch exceptions explicitly instead\n",
      "  df[col] = pd.to_numeric(df[col], errors='ignore')\n",
      "C:\\Users\\yzdn\\AppData\\Local\\Temp\\ipykernel_7972\\945736489.py:6: FutureWarning: errors='ignore' is deprecated and will raise in a future version. Use to_numeric without passing `errors` and catch exceptions explicitly instead\n",
      "  df[col] = pd.to_numeric(df[col], errors='ignore')\n",
      "C:\\Users\\yzdn\\AppData\\Local\\Temp\\ipykernel_7972\\945736489.py:6: FutureWarning: errors='ignore' is deprecated and will raise in a future version. Use to_numeric without passing `errors` and catch exceptions explicitly instead\n",
      "  df[col] = pd.to_numeric(df[col], errors='ignore')\n",
      "C:\\Users\\yzdn\\AppData\\Local\\Temp\\ipykernel_7972\\945736489.py:6: FutureWarning: errors='ignore' is deprecated and will raise in a future version. Use to_numeric without passing `errors` and catch exceptions explicitly instead\n",
      "  df[col] = pd.to_numeric(df[col], errors='ignore')\n"
     ]
    }
   ],
   "source": [
    "for col in df.columns:\n",
    "    df[col] = df[col].astype(str)\n",
    "\n",
    "    df[col] = df[col].str.strip().replace(r'\\s+', ' ', regex=True)\n",
    "\n",
    "    df[col] = pd.to_numeric(df[col], errors='ignore')"
   ]
  },
  {
   "cell_type": "code",
   "execution_count": 10,
   "id": "7ed8870c",
   "metadata": {},
   "outputs": [],
   "source": [
    "df[\"return_date\"] = pd.to_datetime(df[\"return_date\"], errors=\"coerce\")\n",
    "df[\"return_date\"] = df[\"return_date\"].dt.normalize()"
   ]
  },
  {
   "cell_type": "code",
   "execution_count": 11,
   "id": "d1736588",
   "metadata": {},
   "outputs": [
    {
     "name": "stdout",
     "output_type": "stream",
     "text": [
      "<class 'pandas.core.frame.DataFrame'>\n",
      "Index: 200 entries, 0 to 199\n",
      "Data columns (total 4 columns):\n",
      " #   Column         Non-Null Count  Dtype         \n",
      "---  ------         --------------  -----         \n",
      " 0   return_id      200 non-null    object        \n",
      " 1   order_id       200 non-null    object        \n",
      " 2   return_date    200 non-null    datetime64[ns]\n",
      " 3   return_reason  200 non-null    object        \n",
      "dtypes: datetime64[ns](1), object(3)\n",
      "memory usage: 7.8+ KB\n"
     ]
    }
   ],
   "source": [
    "df.info()"
   ]
  },
  {
   "cell_type": "code",
   "execution_count": 12,
   "id": "4f1c93fc",
   "metadata": {},
   "outputs": [
    {
     "data": {
      "text/html": [
       "<div>\n",
       "<style scoped>\n",
       "    .dataframe tbody tr th:only-of-type {\n",
       "        vertical-align: middle;\n",
       "    }\n",
       "\n",
       "    .dataframe tbody tr th {\n",
       "        vertical-align: top;\n",
       "    }\n",
       "\n",
       "    .dataframe thead th {\n",
       "        text-align: right;\n",
       "    }\n",
       "</style>\n",
       "<table border=\"1\" class=\"dataframe\">\n",
       "  <thead>\n",
       "    <tr style=\"text-align: right;\">\n",
       "      <th></th>\n",
       "      <th>return_id</th>\n",
       "      <th>order_id</th>\n",
       "      <th>return_date</th>\n",
       "      <th>return_reason</th>\n",
       "    </tr>\n",
       "  </thead>\n",
       "  <tbody>\n",
       "    <tr>\n",
       "      <th>0</th>\n",
       "      <td>R0000</td>\n",
       "      <td>O02237</td>\n",
       "      <td>2024-03-05</td>\n",
       "      <td>defective</td>\n",
       "    </tr>\n",
       "    <tr>\n",
       "      <th>1</th>\n",
       "      <td>R0001</td>\n",
       "      <td>O01700</td>\n",
       "      <td>2025-03-18</td>\n",
       "      <td>defective</td>\n",
       "    </tr>\n",
       "    <tr>\n",
       "      <th>2</th>\n",
       "      <td>R0002</td>\n",
       "      <td>O01451</td>\n",
       "      <td>2025-02-18</td>\n",
       "      <td>late delivery</td>\n",
       "    </tr>\n",
       "    <tr>\n",
       "      <th>3</th>\n",
       "      <td>R0003</td>\n",
       "      <td>O02759</td>\n",
       "      <td>2023-10-26</td>\n",
       "      <td>defective</td>\n",
       "    </tr>\n",
       "    <tr>\n",
       "      <th>4</th>\n",
       "      <td>R0004</td>\n",
       "      <td>O00415</td>\n",
       "      <td>2024-08-06</td>\n",
       "      <td>no longer needed</td>\n",
       "    </tr>\n",
       "  </tbody>\n",
       "</table>\n",
       "</div>"
      ],
      "text/plain": [
       "  return_id order_id return_date     return_reason\n",
       "0     R0000   O02237  2024-03-05         defective\n",
       "1     R0001   O01700  2025-03-18         defective\n",
       "2     R0002   O01451  2025-02-18     late delivery\n",
       "3     R0003   O02759  2023-10-26         defective\n",
       "4     R0004   O00415  2024-08-06  no longer needed"
      ]
     },
     "execution_count": 12,
     "metadata": {},
     "output_type": "execute_result"
    }
   ],
   "source": [
    "df.head()"
   ]
  },
  {
   "cell_type": "code",
   "execution_count": 13,
   "id": "e3b66806",
   "metadata": {},
   "outputs": [
    {
     "data": {
      "text/plain": [
       "array(['defective', 'late delivery', 'no longer needed', 'wrong item'],\n",
       "      dtype=object)"
      ]
     },
     "execution_count": 13,
     "metadata": {},
     "output_type": "execute_result"
    }
   ],
   "source": [
    "df[\"return_reason\"].unique()"
   ]
  },
  {
   "cell_type": "code",
   "execution_count": 14,
   "id": "4778c050",
   "metadata": {},
   "outputs": [
    {
     "data": {
      "text/plain": [
       "return_reason\n",
       "defective           63\n",
       "wrong item          53\n",
       "late delivery       43\n",
       "no longer needed    41\n",
       "Name: count, dtype: int64"
      ]
     },
     "execution_count": 14,
     "metadata": {},
     "output_type": "execute_result"
    }
   ],
   "source": [
    "df[\"return_reason\"].value_counts()"
   ]
  },
  {
   "cell_type": "code",
   "execution_count": 15,
   "id": "74b141af",
   "metadata": {},
   "outputs": [],
   "source": [
    "#Create \"reason_category\" column\n",
    "def classify_reason(reason):\n",
    "    reason = str(reason).strip().lower()\n",
    "    if reason == \"defective\":\n",
    "        return \"product issue\"\n",
    "    elif reason == \"late delivery\":\n",
    "        return \"logistics issue\"\n",
    "    elif reason == \"no longer needed\":\n",
    "        return \"customer decision\"\n",
    "    elif reason == \"wrong item\":\n",
    "        return \"shipping issue\"\n",
    "    else:\n",
    "        return \"other\""
   ]
  },
  {
   "cell_type": "code",
   "execution_count": 16,
   "id": "f84f864b",
   "metadata": {},
   "outputs": [],
   "source": [
    "df[\"reason_category\"] = df[\"return_reason\"].apply(classify_reason)"
   ]
  },
  {
   "cell_type": "code",
   "execution_count": 17,
   "id": "a22c63b3",
   "metadata": {},
   "outputs": [],
   "source": [
    "df.to_csv(r\"C:\\Users\\yzdn\\Desktop\\Data Science\\Intern Projects\\Retail Analysic\\Cleaned Data\\Cleaned Returns Data.csv\", index=False, encoding='utf-8')"
   ]
  }
 ],
 "metadata": {
  "kernelspec": {
   "display_name": "Python 3",
   "language": "python",
   "name": "python3"
  },
  "language_info": {
   "codemirror_mode": {
    "name": "ipython",
    "version": 3
   },
   "file_extension": ".py",
   "mimetype": "text/x-python",
   "name": "python",
   "nbconvert_exporter": "python",
   "pygments_lexer": "ipython3",
   "version": "3.12.4"
  }
 },
 "nbformat": 4,
 "nbformat_minor": 5
}
