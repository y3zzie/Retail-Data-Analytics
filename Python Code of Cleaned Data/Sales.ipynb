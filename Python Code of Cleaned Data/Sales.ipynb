{
 "cells": [
  {
   "cell_type": "code",
   "execution_count": 1,
   "id": "f32553ec",
   "metadata": {},
   "outputs": [],
   "source": [
    "import numpy as np\n",
    "import pandas as pd\n",
    "import seaborn as sns\n",
    "import matplotlib.pyplot as plt"
   ]
  },
  {
   "cell_type": "code",
   "execution_count": 2,
   "id": "a14b7496",
   "metadata": {},
   "outputs": [],
   "source": [
    "df = pd.read_csv(r\"C:\\Users\\yzdn\\Desktop\\Data Science\\Intern Projects\\Retail Analysic\\Raw Data\\sales.csv\")"
   ]
  },
  {
   "cell_type": "code",
   "execution_count": 3,
   "id": "d200c12d",
   "metadata": {},
   "outputs": [
    {
     "data": {
      "text/html": [
       "<div>\n",
       "<style scoped>\n",
       "    .dataframe tbody tr th:only-of-type {\n",
       "        vertical-align: middle;\n",
       "    }\n",
       "\n",
       "    .dataframe tbody tr th {\n",
       "        vertical-align: top;\n",
       "    }\n",
       "\n",
       "    .dataframe thead th {\n",
       "        text-align: right;\n",
       "    }\n",
       "</style>\n",
       "<table border=\"1\" class=\"dataframe\">\n",
       "  <thead>\n",
       "    <tr style=\"text-align: right;\">\n",
       "      <th></th>\n",
       "      <th>order_id</th>\n",
       "      <th>order_date</th>\n",
       "      <th>customer_id</th>\n",
       "      <th>product_id</th>\n",
       "      <th>store_id</th>\n",
       "      <th>sales_channel</th>\n",
       "      <th>quantity</th>\n",
       "      <th>unit_price</th>\n",
       "      <th>discount_pct</th>\n",
       "      <th>total_amount</th>\n",
       "    </tr>\n",
       "  </thead>\n",
       "  <tbody>\n",
       "    <tr>\n",
       "      <th>0</th>\n",
       "      <td>O00000</td>\n",
       "      <td>2024-01-31</td>\n",
       "      <td>C0125</td>\n",
       "      <td>P1086</td>\n",
       "      <td>NaN</td>\n",
       "      <td>Online</td>\n",
       "      <td>2</td>\n",
       "      <td>80.63</td>\n",
       "      <td>0.05</td>\n",
       "      <td>153.20</td>\n",
       "    </tr>\n",
       "    <tr>\n",
       "      <th>1</th>\n",
       "      <td>O00001</td>\n",
       "      <td>2024-09-29</td>\n",
       "      <td>C0633</td>\n",
       "      <td>P0973</td>\n",
       "      <td>S042</td>\n",
       "      <td>In-Store</td>\n",
       "      <td>20</td>\n",
       "      <td>209.16</td>\n",
       "      <td>0.05</td>\n",
       "      <td>3974.00</td>\n",
       "    </tr>\n",
       "    <tr>\n",
       "      <th>2</th>\n",
       "      <td>O00002</td>\n",
       "      <td>2023-08-29</td>\n",
       "      <td>C0653</td>\n",
       "      <td>P0659</td>\n",
       "      <td>NaN</td>\n",
       "      <td>Online</td>\n",
       "      <td>2</td>\n",
       "      <td>218.60</td>\n",
       "      <td>0.10</td>\n",
       "      <td>393.48</td>\n",
       "    </tr>\n",
       "    <tr>\n",
       "      <th>3</th>\n",
       "      <td>O00003</td>\n",
       "      <td>2024-05-13</td>\n",
       "      <td>C0753</td>\n",
       "      <td>P0666</td>\n",
       "      <td>S014</td>\n",
       "      <td>In-Store</td>\n",
       "      <td>1</td>\n",
       "      <td>78.53</td>\n",
       "      <td>0.20</td>\n",
       "      <td>62.82</td>\n",
       "    </tr>\n",
       "    <tr>\n",
       "      <th>4</th>\n",
       "      <td>O00004</td>\n",
       "      <td>2024-07-22</td>\n",
       "      <td>C0627</td>\n",
       "      <td>P0166</td>\n",
       "      <td>S017</td>\n",
       "      <td>In-Store</td>\n",
       "      <td>1</td>\n",
       "      <td>344.93</td>\n",
       "      <td>0.20</td>\n",
       "      <td>275.94</td>\n",
       "    </tr>\n",
       "  </tbody>\n",
       "</table>\n",
       "</div>"
      ],
      "text/plain": [
       "  order_id  order_date customer_id product_id store_id sales_channel  \\\n",
       "0   O00000  2024-01-31       C0125      P1086      NaN        Online   \n",
       "1   O00001  2024-09-29       C0633      P0973     S042      In-Store   \n",
       "2   O00002  2023-08-29       C0653      P0659      NaN        Online   \n",
       "3   O00003  2024-05-13       C0753      P0666     S014      In-Store   \n",
       "4   O00004  2024-07-22       C0627      P0166     S017      In-Store   \n",
       "\n",
       "   quantity  unit_price  discount_pct  total_amount  \n",
       "0         2       80.63          0.05        153.20  \n",
       "1        20      209.16          0.05       3974.00  \n",
       "2         2      218.60          0.10        393.48  \n",
       "3         1       78.53          0.20         62.82  \n",
       "4         1      344.93          0.20        275.94  "
      ]
     },
     "execution_count": 3,
     "metadata": {},
     "output_type": "execute_result"
    }
   ],
   "source": [
    "df.head()"
   ]
  },
  {
   "cell_type": "code",
   "execution_count": 4,
   "id": "ff270243",
   "metadata": {},
   "outputs": [
    {
     "name": "stdout",
     "output_type": "stream",
     "text": [
      "<class 'pandas.core.frame.DataFrame'>\n",
      "RangeIndex: 3060 entries, 0 to 3059\n",
      "Data columns (total 10 columns):\n",
      " #   Column         Non-Null Count  Dtype  \n",
      "---  ------         --------------  -----  \n",
      " 0   order_id       3060 non-null   object \n",
      " 1   order_date     3060 non-null   object \n",
      " 2   customer_id    3060 non-null   object \n",
      " 3   product_id     3060 non-null   object \n",
      " 4   store_id       2068 non-null   object \n",
      " 5   sales_channel  3060 non-null   object \n",
      " 6   quantity       3060 non-null   int64  \n",
      " 7   unit_price     3060 non-null   float64\n",
      " 8   discount_pct   3060 non-null   float64\n",
      " 9   total_amount   3060 non-null   float64\n",
      "dtypes: float64(3), int64(1), object(6)\n",
      "memory usage: 239.2+ KB\n"
     ]
    }
   ],
   "source": [
    "df.info()"
   ]
  },
  {
   "cell_type": "code",
   "execution_count": 5,
   "id": "beafa3f7",
   "metadata": {},
   "outputs": [
    {
     "data": {
      "text/plain": [
       "order_id           0\n",
       "order_date         0\n",
       "customer_id        0\n",
       "product_id         0\n",
       "store_id         992\n",
       "sales_channel      0\n",
       "quantity           0\n",
       "unit_price         0\n",
       "discount_pct       0\n",
       "total_amount       0\n",
       "dtype: int64"
      ]
     },
     "execution_count": 5,
     "metadata": {},
     "output_type": "execute_result"
    }
   ],
   "source": [
    "df.isnull().sum()"
   ]
  },
  {
   "cell_type": "code",
   "execution_count": 6,
   "id": "00f0b59d",
   "metadata": {},
   "outputs": [],
   "source": [
    "str_cols = [\"order_id\", \"customer_id\", \"product_id\", \"sales_channel\"]\n",
    "for col in str_cols:\n",
    "    df[col] = df[col].astype(str).str.strip()"
   ]
  },
  {
   "cell_type": "code",
   "execution_count": 7,
   "id": "7fc7bef1",
   "metadata": {},
   "outputs": [
    {
     "data": {
      "text/plain": [
       "np.int64(60)"
      ]
     },
     "execution_count": 7,
     "metadata": {},
     "output_type": "execute_result"
    }
   ],
   "source": [
    "df.duplicated().sum()"
   ]
  },
  {
   "cell_type": "code",
   "execution_count": 8,
   "id": "2f2d1056",
   "metadata": {},
   "outputs": [],
   "source": [
    "df = df.drop_duplicates()"
   ]
  },
  {
   "cell_type": "code",
   "execution_count": 9,
   "id": "0088b3d2",
   "metadata": {},
   "outputs": [],
   "source": [
    "df[\"store_id\"] = df[\"store_id\"].fillna(\"N/A\")"
   ]
  },
  {
   "cell_type": "code",
   "execution_count": 10,
   "id": "7ad86b1c",
   "metadata": {},
   "outputs": [],
   "source": [
    "df[\"sales_channel\"] = df[\"sales_channel\"].replace(\"In-Store\", \"Store\")"
   ]
  },
  {
   "cell_type": "code",
   "execution_count": 11,
   "id": "5820edb5",
   "metadata": {},
   "outputs": [],
   "source": [
    "df[\"sales_channel\"] = df[\"sales_channel\"].str.strip().str.lower()"
   ]
  },
  {
   "cell_type": "code",
   "execution_count": 12,
   "id": "c62db20a",
   "metadata": {},
   "outputs": [
    {
     "name": "stderr",
     "output_type": "stream",
     "text": [
      "C:\\Users\\yzdn\\AppData\\Local\\Temp\\ipykernel_9756\\945736489.py:6: FutureWarning: errors='ignore' is deprecated and will raise in a future version. Use to_numeric without passing `errors` and catch exceptions explicitly instead\n",
      "  df[col] = pd.to_numeric(df[col], errors='ignore')\n",
      "C:\\Users\\yzdn\\AppData\\Local\\Temp\\ipykernel_9756\\945736489.py:6: FutureWarning: errors='ignore' is deprecated and will raise in a future version. Use to_numeric without passing `errors` and catch exceptions explicitly instead\n",
      "  df[col] = pd.to_numeric(df[col], errors='ignore')\n",
      "C:\\Users\\yzdn\\AppData\\Local\\Temp\\ipykernel_9756\\945736489.py:6: FutureWarning: errors='ignore' is deprecated and will raise in a future version. Use to_numeric without passing `errors` and catch exceptions explicitly instead\n",
      "  df[col] = pd.to_numeric(df[col], errors='ignore')\n",
      "C:\\Users\\yzdn\\AppData\\Local\\Temp\\ipykernel_9756\\945736489.py:6: FutureWarning: errors='ignore' is deprecated and will raise in a future version. Use to_numeric without passing `errors` and catch exceptions explicitly instead\n",
      "  df[col] = pd.to_numeric(df[col], errors='ignore')\n",
      "C:\\Users\\yzdn\\AppData\\Local\\Temp\\ipykernel_9756\\945736489.py:6: FutureWarning: errors='ignore' is deprecated and will raise in a future version. Use to_numeric without passing `errors` and catch exceptions explicitly instead\n",
      "  df[col] = pd.to_numeric(df[col], errors='ignore')\n",
      "C:\\Users\\yzdn\\AppData\\Local\\Temp\\ipykernel_9756\\945736489.py:6: FutureWarning: errors='ignore' is deprecated and will raise in a future version. Use to_numeric without passing `errors` and catch exceptions explicitly instead\n",
      "  df[col] = pd.to_numeric(df[col], errors='ignore')\n",
      "C:\\Users\\yzdn\\AppData\\Local\\Temp\\ipykernel_9756\\945736489.py:6: FutureWarning: errors='ignore' is deprecated and will raise in a future version. Use to_numeric without passing `errors` and catch exceptions explicitly instead\n",
      "  df[col] = pd.to_numeric(df[col], errors='ignore')\n",
      "C:\\Users\\yzdn\\AppData\\Local\\Temp\\ipykernel_9756\\945736489.py:6: FutureWarning: errors='ignore' is deprecated and will raise in a future version. Use to_numeric without passing `errors` and catch exceptions explicitly instead\n",
      "  df[col] = pd.to_numeric(df[col], errors='ignore')\n",
      "C:\\Users\\yzdn\\AppData\\Local\\Temp\\ipykernel_9756\\945736489.py:6: FutureWarning: errors='ignore' is deprecated and will raise in a future version. Use to_numeric without passing `errors` and catch exceptions explicitly instead\n",
      "  df[col] = pd.to_numeric(df[col], errors='ignore')\n",
      "C:\\Users\\yzdn\\AppData\\Local\\Temp\\ipykernel_9756\\945736489.py:6: FutureWarning: errors='ignore' is deprecated and will raise in a future version. Use to_numeric without passing `errors` and catch exceptions explicitly instead\n",
      "  df[col] = pd.to_numeric(df[col], errors='ignore')\n"
     ]
    }
   ],
   "source": [
    "for col in df.columns:\n",
    "    df[col] = df[col].astype(str)\n",
    "\n",
    "    df[col] = df[col].str.strip().replace(r'\\s+', ' ', regex=True)\n",
    "\n",
    "    df[col] = pd.to_numeric(df[col], errors='ignore')"
   ]
  },
  {
   "cell_type": "code",
   "execution_count": 13,
   "id": "59c67d3c",
   "metadata": {},
   "outputs": [],
   "source": [
    "df[\"order_date\"] = pd.to_datetime(df[\"order_date\"], errors=\"coerce\")\n",
    "df[\"order_date\"] = df[\"order_date\"].dt.normalize()"
   ]
  },
  {
   "cell_type": "code",
   "execution_count": 14,
   "id": "bd0b2f42",
   "metadata": {},
   "outputs": [
    {
     "name": "stdout",
     "output_type": "stream",
     "text": [
      "<class 'pandas.core.frame.DataFrame'>\n",
      "Index: 3000 entries, 0 to 2999\n",
      "Data columns (total 10 columns):\n",
      " #   Column         Non-Null Count  Dtype         \n",
      "---  ------         --------------  -----         \n",
      " 0   order_id       3000 non-null   object        \n",
      " 1   order_date     3000 non-null   datetime64[ns]\n",
      " 2   customer_id    3000 non-null   object        \n",
      " 3   product_id     3000 non-null   object        \n",
      " 4   store_id       3000 non-null   object        \n",
      " 5   sales_channel  3000 non-null   object        \n",
      " 6   quantity       3000 non-null   int64         \n",
      " 7   unit_price     3000 non-null   float64       \n",
      " 8   discount_pct   3000 non-null   float64       \n",
      " 9   total_amount   3000 non-null   float64       \n",
      "dtypes: datetime64[ns](1), float64(3), int64(1), object(5)\n",
      "memory usage: 257.8+ KB\n"
     ]
    }
   ],
   "source": [
    "df.info()"
   ]
  },
  {
   "cell_type": "code",
   "execution_count": 15,
   "id": "0dbe4dbf",
   "metadata": {},
   "outputs": [
    {
     "data": {
      "text/plain": [
       "array(['online', 'store'], dtype=object)"
      ]
     },
     "execution_count": 15,
     "metadata": {},
     "output_type": "execute_result"
    }
   ],
   "source": [
    "df[\"sales_channel\"].unique()"
   ]
  },
  {
   "cell_type": "code",
   "execution_count": 16,
   "id": "72800f37",
   "metadata": {},
   "outputs": [
    {
     "data": {
      "text/plain": [
       "sales_channel\n",
       "store     2092\n",
       "online     908\n",
       "Name: count, dtype: int64"
      ]
     },
     "execution_count": 16,
     "metadata": {},
     "output_type": "execute_result"
    }
   ],
   "source": [
    "df[\"sales_channel\"].value_counts()"
   ]
  },
  {
   "cell_type": "code",
   "execution_count": 17,
   "id": "037ca9fb",
   "metadata": {},
   "outputs": [
    {
     "data": {
      "text/html": [
       "<div>\n",
       "<style scoped>\n",
       "    .dataframe tbody tr th:only-of-type {\n",
       "        vertical-align: middle;\n",
       "    }\n",
       "\n",
       "    .dataframe tbody tr th {\n",
       "        vertical-align: top;\n",
       "    }\n",
       "\n",
       "    .dataframe thead th {\n",
       "        text-align: right;\n",
       "    }\n",
       "</style>\n",
       "<table border=\"1\" class=\"dataframe\">\n",
       "  <thead>\n",
       "    <tr style=\"text-align: right;\">\n",
       "      <th></th>\n",
       "      <th>order_date</th>\n",
       "      <th>quantity</th>\n",
       "      <th>unit_price</th>\n",
       "      <th>discount_pct</th>\n",
       "      <th>total_amount</th>\n",
       "    </tr>\n",
       "  </thead>\n",
       "  <tbody>\n",
       "    <tr>\n",
       "      <th>count</th>\n",
       "      <td>3000</td>\n",
       "      <td>3000.000000</td>\n",
       "      <td>3000.000000</td>\n",
       "      <td>3000.000000</td>\n",
       "      <td>3000.000000</td>\n",
       "    </tr>\n",
       "    <tr>\n",
       "      <th>mean</th>\n",
       "      <td>2024-04-07 08:10:04.800000</td>\n",
       "      <td>1.818000</td>\n",
       "      <td>160.575730</td>\n",
       "      <td>0.088183</td>\n",
       "      <td>272.726857</td>\n",
       "    </tr>\n",
       "    <tr>\n",
       "      <th>min</th>\n",
       "      <td>2023-04-11 00:00:00</td>\n",
       "      <td>1.000000</td>\n",
       "      <td>6.770000</td>\n",
       "      <td>0.000000</td>\n",
       "      <td>6.970000</td>\n",
       "    </tr>\n",
       "    <tr>\n",
       "      <th>25%</th>\n",
       "      <td>2023-10-04 00:00:00</td>\n",
       "      <td>1.000000</td>\n",
       "      <td>83.700000</td>\n",
       "      <td>0.050000</td>\n",
       "      <td>107.760000</td>\n",
       "    </tr>\n",
       "    <tr>\n",
       "      <th>50%</th>\n",
       "      <td>2024-04-08 00:00:00</td>\n",
       "      <td>2.000000</td>\n",
       "      <td>159.700000</td>\n",
       "      <td>0.050000</td>\n",
       "      <td>196.740000</td>\n",
       "    </tr>\n",
       "    <tr>\n",
       "      <th>75%</th>\n",
       "      <td>2024-10-05 00:00:00</td>\n",
       "      <td>2.000000</td>\n",
       "      <td>229.400000</td>\n",
       "      <td>0.200000</td>\n",
       "      <td>337.470000</td>\n",
       "    </tr>\n",
       "    <tr>\n",
       "      <th>max</th>\n",
       "      <td>2025-04-10 00:00:00</td>\n",
       "      <td>30.000000</td>\n",
       "      <td>382.320000</td>\n",
       "      <td>0.200000</td>\n",
       "      <td>8855.800000</td>\n",
       "    </tr>\n",
       "    <tr>\n",
       "      <th>std</th>\n",
       "      <td>NaN</td>\n",
       "      <td>1.757433</td>\n",
       "      <td>91.219137</td>\n",
       "      <td>0.074831</td>\n",
       "      <td>413.335743</td>\n",
       "    </tr>\n",
       "  </tbody>\n",
       "</table>\n",
       "</div>"
      ],
      "text/plain": [
       "                       order_date     quantity   unit_price  discount_pct  \\\n",
       "count                        3000  3000.000000  3000.000000   3000.000000   \n",
       "mean   2024-04-07 08:10:04.800000     1.818000   160.575730      0.088183   \n",
       "min           2023-04-11 00:00:00     1.000000     6.770000      0.000000   \n",
       "25%           2023-10-04 00:00:00     1.000000    83.700000      0.050000   \n",
       "50%           2024-04-08 00:00:00     2.000000   159.700000      0.050000   \n",
       "75%           2024-10-05 00:00:00     2.000000   229.400000      0.200000   \n",
       "max           2025-04-10 00:00:00    30.000000   382.320000      0.200000   \n",
       "std                           NaN     1.757433    91.219137      0.074831   \n",
       "\n",
       "       total_amount  \n",
       "count   3000.000000  \n",
       "mean     272.726857  \n",
       "min        6.970000  \n",
       "25%      107.760000  \n",
       "50%      196.740000  \n",
       "75%      337.470000  \n",
       "max     8855.800000  \n",
       "std      413.335743  "
      ]
     },
     "execution_count": 17,
     "metadata": {},
     "output_type": "execute_result"
    }
   ],
   "source": [
    "df.describe()"
   ]
  },
  {
   "cell_type": "code",
   "execution_count": 18,
   "id": "e762da0f",
   "metadata": {},
   "outputs": [
    {
     "data": {
      "text/plain": [
       "<Axes: ylabel='quantity'>"
      ]
     },
     "execution_count": 18,
     "metadata": {},
     "output_type": "execute_result"
    },
    {
     "data": {
      "image/png": "[encoded data removed]",
      "text/plain": [
       "<Figure size 640x480 with 1 Axes>"
      ]
     },
     "metadata": {},
     "output_type": "display_data"
    }
   ],
   "source": [
    "sns.boxplot(df[\"quantity\"])"
   ]
  },
  {
   "cell_type": "code",
   "execution_count": 19,
   "id": "a274824e",
   "metadata": {},
   "outputs": [
    {
     "data": {
      "text/plain": [
       "<Axes: ylabel='total_amount'>"
      ]
     },
     "execution_count": 19,
     "metadata": {},
     "output_type": "execute_result"
    },
    {
     "data": {
      "image/png": "[encoded data removed]",
      "text/plain": [
       "<Figure size 640x480 with 1 Axes>"
      ]
     },
     "metadata": {},
     "output_type": "display_data"
    }
   ],
   "source": [
    "sns.boxplot(df[\"total_amount\"])"
   ]
  },
  {
   "cell_type": "code",
   "execution_count": 20,
   "id": "010fde56",
   "metadata": {},
   "outputs": [],
   "source": [
    "if df[\"discount_pct\"].max() > 1:\n",
    "    df[\"discount_pct\"] = df[\"discount_pct\"] / 100"
   ]
  },
  {
   "cell_type": "code",
   "execution_count": 21,
   "id": "b91150d7",
   "metadata": {},
   "outputs": [],
   "source": [
    "original_df = df.copy()"
   ]
  },
  {
   "cell_type": "code",
   "execution_count": 22,
   "id": "90c66471",
   "metadata": {},
   "outputs": [],
   "source": [
    "# IQR Capping for quantity\n",
    "Q1 = df[\"quantity\"].quantile(0.25)\n",
    "Q3 = df[\"quantity\"].quantile(0.75)\n",
    "IQR = Q3 - Q1\n",
    "lower_q = Q1 - 1.5 * IQR\n",
    "upper_q = Q3 + 1.5 * IQR\n",
    "df[\"quantity\"] = df[\"quantity\"].clip(lower=lower_q, upper=upper_q)"
   ]
  },
  {
   "cell_type": "code",
   "execution_count": 23,
   "id": "1fce8ea9",
   "metadata": {},
   "outputs": [],
   "source": [
    "# Recalculate total_amount using company's formula\n",
    "df[\"total_amount\"] = (df[\"unit_price\"] * df[\"quantity\"]) * (1 - df[\"discount_pct\"])\n",
    "df[\"total_amount\"] = df[\"total_amount\"].round(2)"
   ]
  },
  {
   "cell_type": "code",
   "execution_count": 24,
   "id": "769f91f1",
   "metadata": {},
   "outputs": [
    {
     "data": {
      "text/plain": [
       "<Figure size 1800x1000 with 0 Axes>"
      ]
     },
     "execution_count": 24,
     "metadata": {},
     "output_type": "execute_result"
    },
    {
     "data": {
      "text/plain": [
       "<Figure size 1800x1000 with 0 Axes>"
      ]
     },
     "metadata": {},
     "output_type": "display_data"
    }
   ],
   "source": [
    "plt.figure(figsize=(18, 10))"
   ]
  },
  {
   "cell_type": "code",
   "execution_count": 25,
   "id": "7876ad28",
   "metadata": {},
   "outputs": [
    {
     "data": {
      "text/plain": [
       "Text(0.5, 1.0, 'Quantity - Before (Boxplot)')"
      ]
     },
     "execution_count": 25,
     "metadata": {},
     "output_type": "execute_result"
    },
    {
     "data": {
      "image/png": "[encoded data removed]",
      "text/plain": [
       "<Figure size 640x480 with 2 Axes>"
      ]
     },
     "metadata": {},
     "output_type": "display_data"
    }
   ],
   "source": [
    "# Quantity Before\n",
    "plt.subplot(1, 2, 1)\n",
    "sns.histplot(original_df[\"quantity\"], bins=30)\n",
    "plt.title(\"Quantity - Before (Histogram)\")\n",
    "\n",
    "plt.subplot(1, 2, 2)\n",
    "sns.boxplot(x=original_df[\"quantity\"])\n",
    "plt.title(\"Quantity - Before (Boxplot)\")"
   ]
  },
  {
   "cell_type": "code",
   "execution_count": 26,
   "id": "2413d764",
   "metadata": {},
   "outputs": [
    {
     "data": {
      "text/plain": [
       "Text(0.5, 1.0, 'Quantity - After (Boxplot)')"
      ]
     },
     "execution_count": 26,
     "metadata": {},
     "output_type": "execute_result"
    },
    {
     "data": {
      "image/png": "[encoded data removed]",
      "text/plain": [
       "<Figure size 640x480 with 2 Axes>"
      ]
     },
     "metadata": {},
     "output_type": "display_data"
    }
   ],
   "source": [
    "# Quantity After\n",
    "plt.subplot(1, 2, 1)\n",
    "sns.histplot(df[\"quantity\"], bins=30)\n",
    "plt.title(\"Quantity - After (Histogram)\")\n",
    "\n",
    "plt.subplot(1, 2, 2)\n",
    "sns.boxplot(x=df[\"quantity\"])\n",
    "plt.title(\"Quantity - After (Boxplot)\")\n"
   ]
  },
  {
   "cell_type": "code",
   "execution_count": 27,
   "id": "8c216ba6",
   "metadata": {},
   "outputs": [
    {
     "data": {
      "text/plain": [
       "Text(0.5, 1.0, 'Total Amount - Before (Boxplot)')"
      ]
     },
     "execution_count": 27,
     "metadata": {},
     "output_type": "execute_result"
    },
    {
     "data": {
      "image/png": "[encoded data removed]",
      "text/plain": [
       "<Figure size 640x480 with 2 Axes>"
      ]
     },
     "metadata": {},
     "output_type": "display_data"
    }
   ],
   "source": [
    "# Total Amount Before\n",
    "plt.subplot(1, 2, 1)\n",
    "sns.histplot(original_df[\"total_amount\"], bins=30)\n",
    "plt.title(\"Total Amount - Before (Histogram)\")\n",
    "\n",
    "plt.subplot(1, 2, 2)\n",
    "sns.boxplot(x=original_df[\"total_amount\"])\n",
    "plt.title(\"Total Amount - Before (Boxplot)\")"
   ]
  },
  {
   "cell_type": "code",
   "execution_count": 28,
   "id": "b61fa13a",
   "metadata": {},
   "outputs": [
    {
     "data": {
      "image/png": "[encoded data removed]",
      "text/plain": [
       "<Figure size 640x480 with 2 Axes>"
      ]
     },
     "metadata": {},
     "output_type": "display_data"
    }
   ],
   "source": [
    "# Total Amount After\n",
    "plt.subplot(1, 2, 1)\n",
    "sns.histplot(df[\"total_amount\"], bins=30)\n",
    "plt.title(\"Total Amount - After (Histogram)\")\n",
    "\n",
    "plt.subplot(1, 2, 2)\n",
    "sns.boxplot(x=df[\"total_amount\"])\n",
    "plt.title(\"Total Amount - After (Boxplot)\")\n",
    "\n",
    "plt.tight_layout()\n",
    "plt.show()"
   ]
  },
  {
   "cell_type": "code",
   "execution_count": 29,
   "id": "98a361d4",
   "metadata": {},
   "outputs": [
    {
     "data": {
      "text/html": [
       "<div>\n",
       "<style scoped>\n",
       "    .dataframe tbody tr th:only-of-type {\n",
       "        vertical-align: middle;\n",
       "    }\n",
       "\n",
       "    .dataframe tbody tr th {\n",
       "        vertical-align: top;\n",
       "    }\n",
       "\n",
       "    .dataframe thead th {\n",
       "        text-align: right;\n",
       "    }\n",
       "</style>\n",
       "<table border=\"1\" class=\"dataframe\">\n",
       "  <thead>\n",
       "    <tr style=\"text-align: right;\">\n",
       "      <th></th>\n",
       "      <th>order_date</th>\n",
       "      <th>quantity</th>\n",
       "      <th>unit_price</th>\n",
       "      <th>discount_pct</th>\n",
       "      <th>total_amount</th>\n",
       "    </tr>\n",
       "  </thead>\n",
       "  <tbody>\n",
       "    <tr>\n",
       "      <th>count</th>\n",
       "      <td>3000</td>\n",
       "      <td>3000.000000</td>\n",
       "      <td>3000.000000</td>\n",
       "      <td>3000.000000</td>\n",
       "      <td>3000.000000</td>\n",
       "    </tr>\n",
       "    <tr>\n",
       "      <th>mean</th>\n",
       "      <td>2024-04-07 08:10:04.800000</td>\n",
       "      <td>1.681833</td>\n",
       "      <td>160.575730</td>\n",
       "      <td>0.088183</td>\n",
       "      <td>246.922410</td>\n",
       "    </tr>\n",
       "    <tr>\n",
       "      <th>min</th>\n",
       "      <td>2023-04-11 00:00:00</td>\n",
       "      <td>1.000000</td>\n",
       "      <td>6.770000</td>\n",
       "      <td>0.000000</td>\n",
       "      <td>6.970000</td>\n",
       "    </tr>\n",
       "    <tr>\n",
       "      <th>25%</th>\n",
       "      <td>2023-10-04 00:00:00</td>\n",
       "      <td>1.000000</td>\n",
       "      <td>83.700000</td>\n",
       "      <td>0.050000</td>\n",
       "      <td>107.252500</td>\n",
       "    </tr>\n",
       "    <tr>\n",
       "      <th>50%</th>\n",
       "      <td>2024-04-08 00:00:00</td>\n",
       "      <td>2.000000</td>\n",
       "      <td>159.700000</td>\n",
       "      <td>0.050000</td>\n",
       "      <td>196.595000</td>\n",
       "    </tr>\n",
       "    <tr>\n",
       "      <th>75%</th>\n",
       "      <td>2024-10-05 00:00:00</td>\n",
       "      <td>2.000000</td>\n",
       "      <td>229.400000</td>\n",
       "      <td>0.200000</td>\n",
       "      <td>335.795000</td>\n",
       "    </tr>\n",
       "    <tr>\n",
       "      <th>max</th>\n",
       "      <td>2025-04-10 00:00:00</td>\n",
       "      <td>3.500000</td>\n",
       "      <td>382.320000</td>\n",
       "      <td>0.200000</td>\n",
       "      <td>1213.360000</td>\n",
       "    </tr>\n",
       "    <tr>\n",
       "      <th>std</th>\n",
       "      <td>NaN</td>\n",
       "      <td>0.771936</td>\n",
       "      <td>91.219137</td>\n",
       "      <td>0.074831</td>\n",
       "      <td>196.203788</td>\n",
       "    </tr>\n",
       "  </tbody>\n",
       "</table>\n",
       "</div>"
      ],
      "text/plain": [
       "                       order_date     quantity   unit_price  discount_pct  \\\n",
       "count                        3000  3000.000000  3000.000000   3000.000000   \n",
       "mean   2024-04-07 08:10:04.800000     1.681833   160.575730      0.088183   \n",
       "min           2023-04-11 00:00:00     1.000000     6.770000      0.000000   \n",
       "25%           2023-10-04 00:00:00     1.000000    83.700000      0.050000   \n",
       "50%           2024-04-08 00:00:00     2.000000   159.700000      0.050000   \n",
       "75%           2024-10-05 00:00:00     2.000000   229.400000      0.200000   \n",
       "max           2025-04-10 00:00:00     3.500000   382.320000      0.200000   \n",
       "std                           NaN     0.771936    91.219137      0.074831   \n",
       "\n",
       "       total_amount  \n",
       "count   3000.000000  \n",
       "mean     246.922410  \n",
       "min        6.970000  \n",
       "25%      107.252500  \n",
       "50%      196.595000  \n",
       "75%      335.795000  \n",
       "max     1213.360000  \n",
       "std      196.203788  "
      ]
     },
     "execution_count": 29,
     "metadata": {},
     "output_type": "execute_result"
    }
   ],
   "source": [
    "df.describe()"
   ]
  },
  {
   "cell_type": "code",
   "execution_count": 30,
   "id": "d5d14784",
   "metadata": {},
   "outputs": [],
   "source": [
    "df.to_csv(r\"C:\\Users\\yzdn\\Desktop\\Data Science\\Intern Projects\\Retail Analysic\\Cleaned Data\\Cleaned Sales Data.csv\", index=False, encoding='utf-8')"
   ]
  }
 ],
 "metadata": {
  "kernelspec": {
   "display_name": "Python 3",
   "language": "python",
   "name": "python3"
  },
  "language_info": {
   "codemirror_mode": {
    "name": "ipython",
    "version": 3
   },
   "file_extension": ".py",
   "mimetype": "text/x-python",
   "name": "python",
   "nbconvert_exporter": "python",
   "pygments_lexer": "ipython3",
   "version": "3.12.4"
  }
 },
 "nbformat": 4,
 "nbformat_minor": 5
}
