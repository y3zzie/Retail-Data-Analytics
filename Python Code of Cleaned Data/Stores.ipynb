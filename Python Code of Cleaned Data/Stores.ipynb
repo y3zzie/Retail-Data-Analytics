{
 "cells": [
  {
   "cell_type": "code",
   "execution_count": 1,
   "id": "622f0b66",
   "metadata": {},
   "outputs": [],
   "source": [
    "import numpy as np\n",
    "import pandas as pd\n",
    "import seaborn as sns"
   ]
  },
  {
   "cell_type": "code",
   "execution_count": 2,
   "id": "f3b12344",
   "metadata": {},
   "outputs": [],
   "source": [
    "df = pd.read_csv(r\"C:\\Users\\yzdn\\Desktop\\Data Science\\Intern Projects\\Retail Analysic\\Raw Data\\stores.csv\")"
   ]
  },
  {
   "cell_type": "code",
   "execution_count": 3,
   "id": "fc0c67c9",
   "metadata": {},
   "outputs": [
    {
     "data": {
      "text/html": [
       "<div>\n",
       "<style scoped>\n",
       "    .dataframe tbody tr th:only-of-type {\n",
       "        vertical-align: middle;\n",
       "    }\n",
       "\n",
       "    .dataframe tbody tr th {\n",
       "        vertical-align: top;\n",
       "    }\n",
       "\n",
       "    .dataframe thead th {\n",
       "        text-align: right;\n",
       "    }\n",
       "</style>\n",
       "<table border=\"1\" class=\"dataframe\">\n",
       "  <thead>\n",
       "    <tr style=\"text-align: right;\">\n",
       "      <th></th>\n",
       "      <th>store_id</th>\n",
       "      <th>store_name</th>\n",
       "      <th>store_type</th>\n",
       "      <th>region</th>\n",
       "      <th>city</th>\n",
       "      <th>operating_cost</th>\n",
       "    </tr>\n",
       "  </thead>\n",
       "  <tbody>\n",
       "    <tr>\n",
       "      <th>0</th>\n",
       "      <td>S000</td>\n",
       "      <td>Vincent Inc Store</td>\n",
       "      <td>Franchise</td>\n",
       "      <td>West</td>\n",
       "      <td>Chicago</td>\n",
       "      <td>62538.56</td>\n",
       "    </tr>\n",
       "    <tr>\n",
       "      <th>1</th>\n",
       "      <td>S001</td>\n",
       "      <td>Wilson Inc Store</td>\n",
       "      <td>Flagship</td>\n",
       "      <td>East</td>\n",
       "      <td>Chicago</td>\n",
       "      <td>26957.43</td>\n",
       "    </tr>\n",
       "    <tr>\n",
       "      <th>2</th>\n",
       "      <td>S002</td>\n",
       "      <td>Washington-Trujillo Store</td>\n",
       "      <td>Franchise</td>\n",
       "      <td>North</td>\n",
       "      <td>Los Angeles</td>\n",
       "      <td>66101.63</td>\n",
       "    </tr>\n",
       "    <tr>\n",
       "      <th>3</th>\n",
       "      <td>S003</td>\n",
       "      <td>Santana and Sons Store</td>\n",
       "      <td>Franchise</td>\n",
       "      <td>South</td>\n",
       "      <td>Phoenix</td>\n",
       "      <td>71089.40</td>\n",
       "    </tr>\n",
       "    <tr>\n",
       "      <th>4</th>\n",
       "      <td>S004</td>\n",
       "      <td>Oconnor-Rhodes Store</td>\n",
       "      <td>Franchise</td>\n",
       "      <td>East</td>\n",
       "      <td>Los Angeles</td>\n",
       "      <td>40965.26</td>\n",
       "    </tr>\n",
       "  </tbody>\n",
       "</table>\n",
       "</div>"
      ],
      "text/plain": [
       "  store_id                 store_name store_type region         city  \\\n",
       "0     S000          Vincent Inc Store  Franchise   West      Chicago   \n",
       "1     S001           Wilson Inc Store   Flagship   East      Chicago   \n",
       "2     S002  Washington-Trujillo Store  Franchise  North  Los Angeles   \n",
       "3     S003     Santana and Sons Store  Franchise  South      Phoenix   \n",
       "4     S004       Oconnor-Rhodes Store  Franchise   East  Los Angeles   \n",
       "\n",
       "   operating_cost  \n",
       "0        62538.56  \n",
       "1        26957.43  \n",
       "2        66101.63  \n",
       "3        71089.40  \n",
       "4        40965.26  "
      ]
     },
     "execution_count": 3,
     "metadata": {},
     "output_type": "execute_result"
    }
   ],
   "source": [
    "df.head()"
   ]
  },
  {
   "cell_type": "code",
   "execution_count": 4,
   "id": "148af626",
   "metadata": {},
   "outputs": [
    {
     "name": "stdout",
     "output_type": "stream",
     "text": [
      "<class 'pandas.core.frame.DataFrame'>\n",
      "RangeIndex: 61 entries, 0 to 60\n",
      "Data columns (total 6 columns):\n",
      " #   Column          Non-Null Count  Dtype  \n",
      "---  ------          --------------  -----  \n",
      " 0   store_id        61 non-null     object \n",
      " 1   store_name      61 non-null     object \n",
      " 2   store_type      61 non-null     object \n",
      " 3   region          61 non-null     object \n",
      " 4   city            61 non-null     object \n",
      " 5   operating_cost  61 non-null     float64\n",
      "dtypes: float64(1), object(5)\n",
      "memory usage: 3.0+ KB\n"
     ]
    }
   ],
   "source": [
    "df.info()"
   ]
  },
  {
   "cell_type": "code",
   "execution_count": 5,
   "id": "0ded53df",
   "metadata": {},
   "outputs": [],
   "source": [
    "str_cols = [\"store_id\", \"store_name\", \"store_type\", \"region\",\"city\"]\n",
    "for col in str_cols:\n",
    "    df[col] = df[col].astype(str).str.strip()"
   ]
  },
  {
   "cell_type": "code",
   "execution_count": 6,
   "id": "43d1994a",
   "metadata": {},
   "outputs": [
    {
     "data": {
      "text/plain": [
       "np.int64(1)"
      ]
     },
     "execution_count": 6,
     "metadata": {},
     "output_type": "execute_result"
    }
   ],
   "source": [
    "df.duplicated().sum()"
   ]
  },
  {
   "cell_type": "code",
   "execution_count": 7,
   "id": "8644a295",
   "metadata": {},
   "outputs": [],
   "source": [
    "df = df.drop_duplicates()"
   ]
  },
  {
   "cell_type": "code",
   "execution_count": 8,
   "id": "5fbbc68d",
   "metadata": {},
   "outputs": [],
   "source": [
    "df[\"store_name\"] = df[\"store_name\"].str.strip().str.lower()\n",
    "df[\"store_type\"] = df[\"store_type\"].str.strip().str.lower()\n",
    "df[\"region\"] = df[\"region\"].str.strip().str.lower()\n",
    "df[\"city\"] = df[\"city\"].str.strip().str.lower()"
   ]
  },
  {
   "cell_type": "code",
   "execution_count": 9,
   "id": "ce1a7fc3",
   "metadata": {},
   "outputs": [],
   "source": [
    "df[\"store_name\"] = df[\"store_name\"].str.replace('-', ' ', regex=False)\n",
    "df[\"store_name\"] = df[\"store_name\"].str.replace(',', ' ', regex=False)"
   ]
  },
  {
   "cell_type": "code",
   "execution_count": 10,
   "id": "6c484c37",
   "metadata": {},
   "outputs": [
    {
     "name": "stderr",
     "output_type": "stream",
     "text": [
      "C:\\Users\\yzdn\\AppData\\Local\\Temp\\ipykernel_10884\\945736489.py:6: FutureWarning: errors='ignore' is deprecated and will raise in a future version. Use to_numeric without passing `errors` and catch exceptions explicitly instead\n",
      "  df[col] = pd.to_numeric(df[col], errors='ignore')\n",
      "C:\\Users\\yzdn\\AppData\\Local\\Temp\\ipykernel_10884\\945736489.py:6: FutureWarning: errors='ignore' is deprecated and will raise in a future version. Use to_numeric without passing `errors` and catch exceptions explicitly instead\n",
      "  df[col] = pd.to_numeric(df[col], errors='ignore')\n",
      "C:\\Users\\yzdn\\AppData\\Local\\Temp\\ipykernel_10884\\945736489.py:6: FutureWarning: errors='ignore' is deprecated and will raise in a future version. Use to_numeric without passing `errors` and catch exceptions explicitly instead\n",
      "  df[col] = pd.to_numeric(df[col], errors='ignore')\n",
      "C:\\Users\\yzdn\\AppData\\Local\\Temp\\ipykernel_10884\\945736489.py:6: FutureWarning: errors='ignore' is deprecated and will raise in a future version. Use to_numeric without passing `errors` and catch exceptions explicitly instead\n",
      "  df[col] = pd.to_numeric(df[col], errors='ignore')\n",
      "C:\\Users\\yzdn\\AppData\\Local\\Temp\\ipykernel_10884\\945736489.py:6: FutureWarning: errors='ignore' is deprecated and will raise in a future version. Use to_numeric without passing `errors` and catch exceptions explicitly instead\n",
      "  df[col] = pd.to_numeric(df[col], errors='ignore')\n",
      "C:\\Users\\yzdn\\AppData\\Local\\Temp\\ipykernel_10884\\945736489.py:6: FutureWarning: errors='ignore' is deprecated and will raise in a future version. Use to_numeric without passing `errors` and catch exceptions explicitly instead\n",
      "  df[col] = pd.to_numeric(df[col], errors='ignore')\n"
     ]
    }
   ],
   "source": [
    "for col in df.columns:\n",
    "    df[col] = df[col].astype(str)\n",
    "\n",
    "    df[col] = df[col].str.strip().replace(r'\\s+', ' ', regex=True)\n",
    "\n",
    "    df[col] = pd.to_numeric(df[col], errors='ignore')"
   ]
  },
  {
   "cell_type": "code",
   "execution_count": 11,
   "id": "3500730b",
   "metadata": {},
   "outputs": [
    {
     "data": {
      "text/plain": [
       "store_id          0\n",
       "store_name        0\n",
       "store_type        0\n",
       "region            0\n",
       "city              0\n",
       "operating_cost    0\n",
       "dtype: int64"
      ]
     },
     "execution_count": 11,
     "metadata": {},
     "output_type": "execute_result"
    }
   ],
   "source": [
    "df.isnull().sum()"
   ]
  },
  {
   "cell_type": "code",
   "execution_count": 12,
   "id": "8c9dbe3b",
   "metadata": {},
   "outputs": [
    {
     "name": "stdout",
     "output_type": "stream",
     "text": [
      "<class 'pandas.core.frame.DataFrame'>\n",
      "Index: 60 entries, 0 to 59\n",
      "Data columns (total 6 columns):\n",
      " #   Column          Non-Null Count  Dtype  \n",
      "---  ------          --------------  -----  \n",
      " 0   store_id        60 non-null     object \n",
      " 1   store_name      60 non-null     object \n",
      " 2   store_type      60 non-null     object \n",
      " 3   region          60 non-null     object \n",
      " 4   city            60 non-null     object \n",
      " 5   operating_cost  60 non-null     float64\n",
      "dtypes: float64(1), object(5)\n",
      "memory usage: 3.3+ KB\n"
     ]
    }
   ],
   "source": [
    "df.info()"
   ]
  },
  {
   "cell_type": "code",
   "execution_count": 13,
   "id": "4d95a018",
   "metadata": {},
   "outputs": [
    {
     "data": {
      "text/html": [
       "<div>\n",
       "<style scoped>\n",
       "    .dataframe tbody tr th:only-of-type {\n",
       "        vertical-align: middle;\n",
       "    }\n",
       "\n",
       "    .dataframe tbody tr th {\n",
       "        vertical-align: top;\n",
       "    }\n",
       "\n",
       "    .dataframe thead th {\n",
       "        text-align: right;\n",
       "    }\n",
       "</style>\n",
       "<table border=\"1\" class=\"dataframe\">\n",
       "  <thead>\n",
       "    <tr style=\"text-align: right;\">\n",
       "      <th></th>\n",
       "      <th>store_id</th>\n",
       "      <th>store_name</th>\n",
       "      <th>store_type</th>\n",
       "      <th>region</th>\n",
       "      <th>city</th>\n",
       "      <th>operating_cost</th>\n",
       "    </tr>\n",
       "  </thead>\n",
       "  <tbody>\n",
       "    <tr>\n",
       "      <th>0</th>\n",
       "      <td>S000</td>\n",
       "      <td>vincent inc store</td>\n",
       "      <td>franchise</td>\n",
       "      <td>west</td>\n",
       "      <td>chicago</td>\n",
       "      <td>62538.56</td>\n",
       "    </tr>\n",
       "    <tr>\n",
       "      <th>1</th>\n",
       "      <td>S001</td>\n",
       "      <td>wilson inc store</td>\n",
       "      <td>flagship</td>\n",
       "      <td>east</td>\n",
       "      <td>chicago</td>\n",
       "      <td>26957.43</td>\n",
       "    </tr>\n",
       "    <tr>\n",
       "      <th>2</th>\n",
       "      <td>S002</td>\n",
       "      <td>washington trujillo store</td>\n",
       "      <td>franchise</td>\n",
       "      <td>north</td>\n",
       "      <td>los angeles</td>\n",
       "      <td>66101.63</td>\n",
       "    </tr>\n",
       "    <tr>\n",
       "      <th>3</th>\n",
       "      <td>S003</td>\n",
       "      <td>santana and sons store</td>\n",
       "      <td>franchise</td>\n",
       "      <td>south</td>\n",
       "      <td>phoenix</td>\n",
       "      <td>71089.40</td>\n",
       "    </tr>\n",
       "    <tr>\n",
       "      <th>4</th>\n",
       "      <td>S004</td>\n",
       "      <td>oconnor rhodes store</td>\n",
       "      <td>franchise</td>\n",
       "      <td>east</td>\n",
       "      <td>los angeles</td>\n",
       "      <td>40965.26</td>\n",
       "    </tr>\n",
       "  </tbody>\n",
       "</table>\n",
       "</div>"
      ],
      "text/plain": [
       "  store_id                 store_name store_type region         city  \\\n",
       "0     S000          vincent inc store  franchise   west      chicago   \n",
       "1     S001           wilson inc store   flagship   east      chicago   \n",
       "2     S002  washington trujillo store  franchise  north  los angeles   \n",
       "3     S003     santana and sons store  franchise  south      phoenix   \n",
       "4     S004       oconnor rhodes store  franchise   east  los angeles   \n",
       "\n",
       "   operating_cost  \n",
       "0        62538.56  \n",
       "1        26957.43  \n",
       "2        66101.63  \n",
       "3        71089.40  \n",
       "4        40965.26  "
      ]
     },
     "execution_count": 13,
     "metadata": {},
     "output_type": "execute_result"
    }
   ],
   "source": [
    "df.head()"
   ]
  },
  {
   "cell_type": "code",
   "execution_count": 14,
   "id": "b654f555",
   "metadata": {},
   "outputs": [
    {
     "data": {
      "text/plain": [
       "array(['franchise', 'flagship', 'mall kiosk'], dtype=object)"
      ]
     },
     "execution_count": 14,
     "metadata": {},
     "output_type": "execute_result"
    }
   ],
   "source": [
    "df[\"store_type\"].unique()"
   ]
  },
  {
   "cell_type": "code",
   "execution_count": 15,
   "id": "5a1b0bac",
   "metadata": {},
   "outputs": [
    {
     "data": {
      "text/plain": [
       "store_type\n",
       "flagship      21\n",
       "franchise     20\n",
       "mall kiosk    19\n",
       "Name: count, dtype: int64"
      ]
     },
     "execution_count": 15,
     "metadata": {},
     "output_type": "execute_result"
    }
   ],
   "source": [
    "df[\"store_type\"].value_counts()"
   ]
  },
  {
   "cell_type": "code",
   "execution_count": 16,
   "id": "4adc407b",
   "metadata": {},
   "outputs": [
    {
     "data": {
      "text/plain": [
       "array(['west', 'east', 'north', 'south'], dtype=object)"
      ]
     },
     "execution_count": 16,
     "metadata": {},
     "output_type": "execute_result"
    }
   ],
   "source": [
    "df[\"region\"].unique()"
   ]
  },
  {
   "cell_type": "code",
   "execution_count": 17,
   "id": "2f8269a7",
   "metadata": {},
   "outputs": [
    {
     "data": {
      "text/plain": [
       "<seaborn.axisgrid.FacetGrid at 0x21e375115e0>"
      ]
     },
     "execution_count": 17,
     "metadata": {},
     "output_type": "execute_result"
    },
    {
     "data": {
      "image/png": "[encoded data removed]",
      "text/plain": [
       "<Figure size 500x500 with 1 Axes>"
      ]
     },
     "metadata": {},
     "output_type": "display_data"
    }
   ],
   "source": [
    "sns.displot(df[\"operating_cost\"])"
   ]
  },
  {
   "cell_type": "code",
   "execution_count": 18,
   "id": "1406572a",
   "metadata": {},
   "outputs": [
    {
     "data": {
      "text/html": [
       "<div>\n",
       "<style scoped>\n",
       "    .dataframe tbody tr th:only-of-type {\n",
       "        vertical-align: middle;\n",
       "    }\n",
       "\n",
       "    .dataframe tbody tr th {\n",
       "        vertical-align: top;\n",
       "    }\n",
       "\n",
       "    .dataframe thead th {\n",
       "        text-align: right;\n",
       "    }\n",
       "</style>\n",
       "<table border=\"1\" class=\"dataframe\">\n",
       "  <thead>\n",
       "    <tr style=\"text-align: right;\">\n",
       "      <th></th>\n",
       "      <th>operating_cost</th>\n",
       "    </tr>\n",
       "  </thead>\n",
       "  <tbody>\n",
       "    <tr>\n",
       "      <th>count</th>\n",
       "      <td>60.000000</td>\n",
       "    </tr>\n",
       "    <tr>\n",
       "      <th>mean</th>\n",
       "      <td>40207.983167</td>\n",
       "    </tr>\n",
       "    <tr>\n",
       "      <th>std</th>\n",
       "      <td>19364.560525</td>\n",
       "    </tr>\n",
       "    <tr>\n",
       "      <th>min</th>\n",
       "      <td>10215.930000</td>\n",
       "    </tr>\n",
       "    <tr>\n",
       "      <th>25%</th>\n",
       "      <td>22349.890000</td>\n",
       "    </tr>\n",
       "    <tr>\n",
       "      <th>50%</th>\n",
       "      <td>38748.915000</td>\n",
       "    </tr>\n",
       "    <tr>\n",
       "      <th>75%</th>\n",
       "      <td>53200.627500</td>\n",
       "    </tr>\n",
       "    <tr>\n",
       "      <th>max</th>\n",
       "      <td>78806.300000</td>\n",
       "    </tr>\n",
       "  </tbody>\n",
       "</table>\n",
       "</div>"
      ],
      "text/plain": [
       "       operating_cost\n",
       "count       60.000000\n",
       "mean     40207.983167\n",
       "std      19364.560525\n",
       "min      10215.930000\n",
       "25%      22349.890000\n",
       "50%      38748.915000\n",
       "75%      53200.627500\n",
       "max      78806.300000"
      ]
     },
     "execution_count": 18,
     "metadata": {},
     "output_type": "execute_result"
    }
   ],
   "source": [
    "df.describe()"
   ]
  },
  {
   "cell_type": "code",
   "execution_count": 19,
   "id": "66d94c62",
   "metadata": {},
   "outputs": [],
   "source": [
    "df.to_csv(r\"C:\\Users\\yzdn\\Desktop\\Data Science\\Intern Projects\\Retail Analysic\\Cleaned Data\\Cleaned Stores Data.csv\", index=False, encoding='utf-8')"
   ]
  }
 ],
 "metadata": {
  "kernelspec": {
   "display_name": "Python 3",
   "language": "python",
   "name": "python3"
  },
  "language_info": {
   "codemirror_mode": {
    "name": "ipython",
    "version": 3
   },
   "file_extension": ".py",
   "mimetype": "text/x-python",
   "name": "python",
   "nbconvert_exporter": "python",
   "pygments_lexer": "ipython3",
   "version": "3.12.4"
  }
 },
 "nbformat": 4,
 "nbformat_minor": 5
}
